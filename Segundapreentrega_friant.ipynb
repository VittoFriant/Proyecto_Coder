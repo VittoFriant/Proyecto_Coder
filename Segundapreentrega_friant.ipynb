{
  "cells": [
    {
      "cell_type": "markdown",
      "metadata": {
        "id": "qUCzHRj71bgZ"
      },
      "source": [
        "\n",
        "\n",
        "## <a> **Análisis Libro de Ventas Periodo 2019 - 2022** </a></a>\n",
        "\n",
        "Empresa Fabrica de Bidones plásticos\n",
        "\n",
        "**A) Información de Dataset**\n",
        "\n",
        "El dataset corresponde a los Libros de ventas mensuales de una fábrica de Bidones plásticos, el periodo que se está utilizando son del 2019 a la fecha (los datos están actualizados hasta septiembre del 2022), esta documentación la obtuve de la empresa donde trabajo actualmente, El objeto de análisis de estos los datos de las ventas es para poder sacar conclusiones y generar Insights para la toma de decisiones en cuanto al rumbo del foco de las ventas que debe adoptar la empresa en el actual escenario. En el Contexto comercial, la empresa vio aumentada la venta de ciertos productos, durante el periodo peak de la pandemia ocasionada por le COVID-19, en específico los productos utilizados para el envasado de cloro y amonio cuaternario, altamente usados para la desinfección de espacios aconsejada por las autoridades para el combate del virus. El día de hoy con un escenario de mayor confianza en cuanto al contagio, la gerencia está preocupada por la disminución de las ventas de estos productos en específico y una baja en las ventas en general, que aparte de la crisis sanitaria, hoy tenemos una crisis económica mundial, que está estancando las ventas de insumos en general, que son los otros artículos que se usan para el detergente, limpiavidrios, limpia pisos, fertilizantes, desechos, etc.  Debido a todos estos temas de contingencia se requiere analizar y tener datos para poder definir el rumbo comercial que debe tomar la empresa. Y para esto queremos ver si con los datos históricos y actuales del comportamiento de las ventas, pre pandemia, post pandemia y escenario actual, podemos entregar información relevante para poder realizar los cambios necesarios para afrontar el escenario actual.\n",
        "\n",
        "**B) CARGA DE DATOS Y DATAWRANGLING:**\n",
        "\n",
        "  \n",
        "**C) PRESENTACION STORYTELLING** \n",
        "\n",
        "\n",
        "\n",
        "1.   Análisis comportamiento general del negocio periodo 2019 a 2021\n",
        "2.   Análisis comparativo mismo peridodo de meses del 2019 a 2022\n",
        "\n",
        "1.   Análisis movimiento bidon \"cloro\" vs bidon \"con venta constante\"\n",
        "2.   Relaciones de los datos\n",
        "\n",
        "\n"
      ]
    },
    {
      "cell_type": "markdown",
      "metadata": {
        "id": "KFKRvz_uczBi"
      },
      "source": [
        "## B) Carga de los Datos y Data Wrangling"
      ]
    },
    {
      "cell_type": "code",
      "execution_count": 4,
      "metadata": {
        "id": "Ns5jwSjocuwn"
      },
      "outputs": [],
      "source": [
        "## Cargamos las librerias a usar\n",
        "import pandas as pd\n",
        "import numpy as np\n",
        "import matplotlib as mpl\n",
        "import matplotlib.pyplot as plt\n",
        "%matplotlib inline\n",
        "import seaborn as sns"
      ]
    },
    {
      "cell_type": "code",
      "execution_count": 5,
      "metadata": {
        "colab": {
          "base_uri": "https://localhost:8080/"
        },
        "id": "r2pDXwmUc_pv",
        "outputId": "95052538-20a9-42c1-84a6-c9ca67339203"
      },
      "outputs": [
        {
          "output_type": "stream",
          "name": "stdout",
          "text": [
            "Drive already mounted at /content/drive; to attempt to forcibly remount, call drive.mount(\"/content/drive\", force_remount=True).\n"
          ]
        }
      ],
      "source": [
        "## El DATASET se carga desde Drive (esta en el link compartido)\n",
        "from google.colab import drive\n",
        "drive.mount('/content/drive')"
      ]
    },
    {
      "cell_type": "code",
      "execution_count": 6,
      "metadata": {
        "id": "RJX45mBdcunT"
      },
      "outputs": [],
      "source": [
        "df= pd.read_excel(\"/content/drive/MyDrive/Desafio/DATA WRANGLING/Carpeta sin título/VTAS_2019a2022.xlsx\")"
      ]
    },
    {
      "cell_type": "code",
      "execution_count": 7,
      "metadata": {
        "colab": {
          "base_uri": "https://localhost:8080/"
        },
        "id": "zAapfSamdLFx",
        "outputId": "1842edd7-f810-4823-c406-1ed9f35ab4b1"
      },
      "outputs": [
        {
          "output_type": "stream",
          "name": "stdout",
          "text": [
            "(73829, 66)\n",
            "(73812, 66)\n"
          ]
        }
      ],
      "source": [
        "print(df.shape)\n",
        "df= df.drop_duplicates()\n",
        "print(df.shape)"
      ]
    },
    {
      "cell_type": "code",
      "execution_count": 8,
      "metadata": {
        "colab": {
          "base_uri": "https://localhost:8080/"
        },
        "id": "ISaZRT9-dRYV",
        "outputId": "49a2102a-eb67-4169-eca1-1de8c9045149"
      },
      "outputs": [
        {
          "output_type": "execute_result",
          "data": {
            "text/plain": [
              "UMA                      100.000000\n",
              "TEXTO                    100.000000\n",
              "NOMBRE_FANTASIA           91.868531\n",
              "CELULAR                   41.134233\n",
              "TELEFONO                  39.157590\n",
              "DIRECC_LOCAL_DESP         30.507235\n",
              "COMUNA_LOCAL_DESPACHO     30.507235\n",
              "CIUDAD_LOCAL_DESP         30.507235\n",
              "NOMBRE_LOCAL              30.507235\n",
              "COD_LOCAL_DESPACHO        30.077765\n",
              "FECHA_REF_1                0.209993\n",
              "dtype: float64"
            ]
          },
          "metadata": {},
          "execution_count": 8
        }
      ],
      "source": [
        "# Columnas con porcentaje de nulos\n",
        "pd.set_option('display.max_rows', None)  # or 1000\n",
        "serie=(df.isnull().sum()/df.shape[0])*100\n",
        "serie=serie.sort_values(ascending=False)\n",
        "serie= serie[serie>0]\n",
        "serie"
      ]
    },
    {
      "cell_type": "code",
      "source": [
        "df.columns"
      ],
      "metadata": {
        "colab": {
          "base_uri": "https://localhost:8080/"
        },
        "id": "JhLTvrDxlm23",
        "outputId": "0a988940-400b-40cd-fae3-55703ad33a66"
      },
      "execution_count": 9,
      "outputs": [
        {
          "output_type": "execute_result",
          "data": {
            "text/plain": [
              "Index(['AÑO', 'MES', 'LOCAL', 'COD_DTE', 'TIPO_DE_DCTO.', 'ESTADO', 'NºDOCTO',\n",
              "       '_FECHA', 'FECHA_VCTO', 'RUT', 'CLIENTE', 'NOMBRE_FANTASIA',\n",
              "       'DIRECCION', 'COMUNA', 'CIUDAD', 'GIRO', 'TELEFONO', 'CELULAR',\n",
              "       'FORMA_DE_PAGO', 'LISTA_PRECIO', 'VENDEDOR', 'COD_LOCAL_DESPACHO',\n",
              "       'NOMBRE_LOCAL', 'DIRECC_LOCAL_DESP', 'COMUNA_LOCAL_DESPACHO',\n",
              "       'CIUDAD_LOCAL_DESP', 'NOMBRE_TRANSPORTE', 'NOMBRE_CHOFER', 'VEHICULO',\n",
              "       'Nº_OC', 'Nº_GD', 'FAMILIA_1', 'FAMILIA_2', 'FAMILIA_3', 'COD.PRODUCTO',\n",
              "       'PRODUCTO', 'TEXTO', 'UMA', 'CANT.UMA', 'UNI.MED', 'TALLA',\n",
              "       'LINEA_EXENTA', 'CANTIDAD', 'PRECIO_UNITARIO', 'PRECIO_COSTO',\n",
              "       'TOTAl_LINEA', '%_DESCUENTO_LINEA', 'TOTAL_DESCUENTO_LINEA',\n",
              "       'VALOR_NETO_', 'VALOR_EXENTO', '_VALOR_IVA', 'VALOR_TOTAL',\n",
              "       'REGISTRO_FISCAL5', 'RUT_SUBDIVISION', 'PROCEDENCIA', 'TALLA/PAIS',\n",
              "       'COLOR/MARCA', 'TIPO_REF_1', 'NUM_REF_1', 'FECHA_REF_1', '_RAZON_REF_1',\n",
              "       'MUEVE_STOCK', 'PRECIO_UNIT.BRUTO', 'PRECIO_UNIT.NETO',\n",
              "       'MONTO_DESCTO_GLOBAL', 'TOTAL_LINEA_NETO'],\n",
              "      dtype='object')"
            ]
          },
          "metadata": {},
          "execution_count": 9
        }
      ]
    },
    {
      "cell_type": "code",
      "execution_count": 10,
      "metadata": {
        "id": "2ahqIBx1dRT1"
      },
      "outputs": [],
      "source": [
        "col_del=['UMA','TEXTO','NOMBRE_FANTASIA']"
      ]
    },
    {
      "cell_type": "code",
      "execution_count": 11,
      "metadata": {
        "colab": {
          "base_uri": "https://localhost:8080/"
        },
        "id": "Jg-zoCUOdRHU",
        "outputId": "88b137ba-1307-4fd7-d3e9-81ea59c6225f"
      },
      "outputs": [
        {
          "output_type": "execute_result",
          "data": {
            "text/plain": [
              "Index(['AÑO', 'MES', 'LOCAL', 'COD_DTE', 'TIPO_DE_DCTO.', 'ESTADO', 'NºDOCTO',\n",
              "       '_FECHA', 'FECHA_VCTO', 'RUT', 'CLIENTE', 'DIRECCION', 'COMUNA',\n",
              "       'CIUDAD', 'GIRO', 'TELEFONO', 'CELULAR', 'FORMA_DE_PAGO',\n",
              "       'LISTA_PRECIO', 'VENDEDOR', 'COD_LOCAL_DESPACHO', 'NOMBRE_LOCAL',\n",
              "       'DIRECC_LOCAL_DESP', 'COMUNA_LOCAL_DESPACHO', 'CIUDAD_LOCAL_DESP',\n",
              "       'NOMBRE_TRANSPORTE', 'NOMBRE_CHOFER', 'VEHICULO', 'Nº_OC', 'Nº_GD',\n",
              "       'FAMILIA_1', 'FAMILIA_2', 'FAMILIA_3', 'COD.PRODUCTO', 'PRODUCTO',\n",
              "       'CANT.UMA', 'UNI.MED', 'TALLA', 'LINEA_EXENTA', 'CANTIDAD',\n",
              "       'PRECIO_UNITARIO', 'PRECIO_COSTO', 'TOTAl_LINEA', '%_DESCUENTO_LINEA',\n",
              "       'TOTAL_DESCUENTO_LINEA', 'VALOR_NETO_', 'VALOR_EXENTO', '_VALOR_IVA',\n",
              "       'VALOR_TOTAL', 'REGISTRO_FISCAL5', 'RUT_SUBDIVISION', 'PROCEDENCIA',\n",
              "       'TALLA/PAIS', 'COLOR/MARCA', 'TIPO_REF_1', 'NUM_REF_1', 'FECHA_REF_1',\n",
              "       '_RAZON_REF_1', 'MUEVE_STOCK', 'PRECIO_UNIT.BRUTO', 'PRECIO_UNIT.NETO',\n",
              "       'MONTO_DESCTO_GLOBAL', 'TOTAL_LINEA_NETO'],\n",
              "      dtype='object')"
            ]
          },
          "metadata": {},
          "execution_count": 11
        }
      ],
      "source": [
        "df_x = df.drop(labels = col_del, axis=1)\n",
        "df_x.columns"
      ]
    },
    {
      "cell_type": "code",
      "source": [
        "print(df.shape)"
      ],
      "metadata": {
        "colab": {
          "base_uri": "https://localhost:8080/"
        },
        "id": "yCaxHnQtplRm",
        "outputId": "06092f68-9907-4222-ae97-f7b0cc2f0556"
      },
      "execution_count": 12,
      "outputs": [
        {
          "output_type": "stream",
          "name": "stdout",
          "text": [
            "(73812, 66)\n"
          ]
        }
      ]
    },
    {
      "cell_type": "code",
      "execution_count": 13,
      "metadata": {
        "id": "_05nNAz8dgky"
      },
      "outputs": [],
      "source": [
        "df_x['COD_LOCAL_DESPACHO'] = df_x['COD_LOCAL_DESPACHO'].fillna(df_x['COD_LOCAL_DESPACHO'].median())"
      ]
    },
    {
      "cell_type": "code",
      "execution_count": 14,
      "metadata": {
        "colab": {
          "base_uri": "https://localhost:8080/"
        },
        "id": "Y8BVw-LFdgiN",
        "outputId": "703b61e0-0998-4acc-b789-1f4af9dd1e81"
      },
      "outputs": [
        {
          "output_type": "execute_result",
          "data": {
            "text/plain": [
              "CELULAR                  41.134233\n",
              "TELEFONO                 39.157590\n",
              "NOMBRE_LOCAL             30.507235\n",
              "DIRECC_LOCAL_DESP        30.507235\n",
              "COMUNA_LOCAL_DESPACHO    30.507235\n",
              "CIUDAD_LOCAL_DESP        30.507235\n",
              "FECHA_REF_1               0.209993\n",
              "dtype: float64"
            ]
          },
          "metadata": {},
          "execution_count": 14
        }
      ],
      "source": [
        "pd.set_option('display.max_rows', None)  # or 1000\n",
        "serie=(df_x.isnull().sum()/df_x.shape[0])*100\n",
        "serie=serie.sort_values(ascending=False)\n",
        "serie= serie[serie>0]\n",
        "serie"
      ]
    },
    {
      "cell_type": "code",
      "execution_count": 15,
      "metadata": {
        "id": "ko3LufIUdgfO"
      },
      "outputs": [],
      "source": [
        "col_cat = ['CELULAR','TELEFONO','NOMBRE_LOCAL','DIRECC_LOCAL_DESP','DIRECC_LOCAL_DESP','COMUNA_LOCAL_DESPACHO','CIUDAD_LOCAL_DESP','FECHA_REF_1']"
      ]
    },
    {
      "cell_type": "code",
      "execution_count": 16,
      "metadata": {
        "id": "itRPe630dgbu"
      },
      "outputs": [],
      "source": [
        "for i in col_cat:\n",
        "  df_x[i] = df_x[i].fillna('N/A')"
      ]
    },
    {
      "cell_type": "code",
      "execution_count": 17,
      "metadata": {
        "colab": {
          "base_uri": "https://localhost:8080/",
          "height": 1000
        },
        "id": "MYcpnhBreQPu",
        "outputId": "4c6b0527-7945-4c2e-dbe0-ab7a13f14503"
      },
      "outputs": [
        {
          "output_type": "stream",
          "name": "stdout",
          "text": [
            "--------------------\n",
            "Variable >2 categorias: TIPO_DE_DCTO.\n",
            "--------------------\n",
            "--------------------\n",
            "Variable >2 categorias: RUT\n",
            "--------------------\n",
            "Variable >2 categorias: CLIENTE\n",
            "--------------------\n",
            "Variable >2 categorias: DIRECCION\n",
            "--------------------\n",
            "Variable >2 categorias: COMUNA\n",
            "--------------------\n",
            "Variable >2 categorias: CIUDAD\n",
            "--------------------\n",
            "Variable >2 categorias: GIRO\n",
            "--------------------\n",
            "Variable >2 categorias: TELEFONO\n",
            "--------------------\n",
            "Variable >2 categorias: CELULAR\n",
            "--------------------\n",
            "Variable >2 categorias: FORMA_DE_PAGO\n",
            "--------------------\n",
            "Variable >2 categorias: LISTA_PRECIO\n",
            "--------------------\n",
            "Variable >2 categorias: VENDEDOR\n",
            "--------------------\n",
            "Variable >2 categorias: NOMBRE_LOCAL\n",
            "--------------------\n",
            "Variable >2 categorias: DIRECC_LOCAL_DESP\n",
            "--------------------\n",
            "Variable >2 categorias: COMUNA_LOCAL_DESPACHO\n",
            "--------------------\n",
            "Variable >2 categorias: CIUDAD_LOCAL_DESP\n",
            "--------------------\n",
            "Variable >2 categorias: NOMBRE_TRANSPORTE\n",
            "--------------------\n",
            "Variable >2 categorias: NOMBRE_CHOFER\n",
            "--------------------\n",
            "Variable >2 categorias: VEHICULO\n",
            "--------------------\n",
            "Variable >2 categorias: Nº_OC\n",
            "--------------------\n",
            "Variable >2 categorias: Nº_GD\n",
            "Variable 2 categorias: FAMILIA_1\n",
            "--------------------\n",
            "--------------------\n",
            "Variable >2 categorias: FAMILIA_2\n",
            "--------------------\n",
            "Variable >2 categorias: FAMILIA_3\n",
            "--------------------\n",
            "Variable >2 categorias: COD.PRODUCTO\n",
            "--------------------\n",
            "Variable >2 categorias: PRODUCTO\n",
            "Variable 2 categorias: UNI.MED\n",
            "--------------------\n",
            "--------------------\n",
            "Variable >2 categorias: TALLA\n",
            "--------------------\n",
            "Variable >2 categorias: REGISTRO_FISCAL5\n",
            "Variable 2 categorias: RUT_SUBDIVISION\n",
            "--------------------\n",
            "--------------------\n",
            "--------------------\n",
            "Variable >2 categorias: TALLA/PAIS\n",
            "--------------------\n",
            "Variable >2 categorias: COLOR/MARCA\n",
            "--------------------\n",
            "Variable >2 categorias: TIPO_REF_1\n",
            "--------------------\n",
            "Variable >2 categorias: NUM_REF_1\n",
            "--------------------\n",
            "Variable >2 categorias: FECHA_REF_1\n",
            "--------------------\n",
            "Variable >2 categorias: _RAZON_REF_1\n"
          ]
        },
        {
          "output_type": "execute_result",
          "data": {
            "text/plain": [
              "   INSUMOS  PRODUCTOS TERMINADOS  KILOS  UNIDAD  0-   0-0   AÑO  MES  LOCAL  \\\n",
              "0        0                     1      0       1    0    1  2019    1      1   \n",
              "1        0                     1      0       1    0    1  2019    1      1   \n",
              "2        0                     1      0       1    0    1  2019    1      1   \n",
              "3        0                     1      0       1    0    1  2019    1      1   \n",
              "4        0                     1      0       1    0    1  2019    1      1   \n",
              "\n",
              "   COD_DTE  ... VALOR_NETO_  VALOR_EXENTO _VALOR_IVA VALOR_TOTAL  PROCEDENCIA  \\\n",
              "0       33  ...      254000             0  -0.011943      302260     NACIONAL   \n",
              "1       33  ...       36000             0  -0.451980       42840     NACIONAL   \n",
              "2       33  ...     2177280             0   3.870234     2590963     NACIONAL   \n",
              "3       33  ...      589680             0   0.665632      701719     NACIONAL   \n",
              "4       33  ...      256032             0  -0.007842      304678     NACIONAL   \n",
              "\n",
              "   MUEVE_STOCK  PRECIO_UNIT.BRUTO  PRECIO_UNIT.NETO  MONTO_DESCTO_GLOBAL  \\\n",
              "0            0                  0         -0.054386                    0   \n",
              "1            0                  0         -0.054386                    0   \n",
              "2            0                  0         -0.054386                    0   \n",
              "3            0                  0         -0.054386                    0   \n",
              "4            0                  0         -0.054386                    0   \n",
              "\n",
              "   TOTAL_LINEA_NETO  \n",
              "0                 0  \n",
              "1                 0  \n",
              "2                 0  \n",
              "3                 0  \n",
              "4                 0  \n",
              "\n",
              "[5 rows x 33 columns]"
            ],
            "text/html": [
              "\n",
              "  <div id=\"df-0f0cd1cd-d922-4440-acd5-0368fa26dc36\">\n",
              "    <div class=\"colab-df-container\">\n",
              "      <div>\n",
              "<style scoped>\n",
              "    .dataframe tbody tr th:only-of-type {\n",
              "        vertical-align: middle;\n",
              "    }\n",
              "\n",
              "    .dataframe tbody tr th {\n",
              "        vertical-align: top;\n",
              "    }\n",
              "\n",
              "    .dataframe thead th {\n",
              "        text-align: right;\n",
              "    }\n",
              "</style>\n",
              "<table border=\"1\" class=\"dataframe\">\n",
              "  <thead>\n",
              "    <tr style=\"text-align: right;\">\n",
              "      <th></th>\n",
              "      <th>INSUMOS</th>\n",
              "      <th>PRODUCTOS TERMINADOS</th>\n",
              "      <th>KILOS</th>\n",
              "      <th>UNIDAD</th>\n",
              "      <th>0-</th>\n",
              "      <th>0-0</th>\n",
              "      <th>AÑO</th>\n",
              "      <th>MES</th>\n",
              "      <th>LOCAL</th>\n",
              "      <th>COD_DTE</th>\n",
              "      <th>...</th>\n",
              "      <th>VALOR_NETO_</th>\n",
              "      <th>VALOR_EXENTO</th>\n",
              "      <th>_VALOR_IVA</th>\n",
              "      <th>VALOR_TOTAL</th>\n",
              "      <th>PROCEDENCIA</th>\n",
              "      <th>MUEVE_STOCK</th>\n",
              "      <th>PRECIO_UNIT.BRUTO</th>\n",
              "      <th>PRECIO_UNIT.NETO</th>\n",
              "      <th>MONTO_DESCTO_GLOBAL</th>\n",
              "      <th>TOTAL_LINEA_NETO</th>\n",
              "    </tr>\n",
              "  </thead>\n",
              "  <tbody>\n",
              "    <tr>\n",
              "      <th>0</th>\n",
              "      <td>0</td>\n",
              "      <td>1</td>\n",
              "      <td>0</td>\n",
              "      <td>1</td>\n",
              "      <td>0</td>\n",
              "      <td>1</td>\n",
              "      <td>2019</td>\n",
              "      <td>1</td>\n",
              "      <td>1</td>\n",
              "      <td>33</td>\n",
              "      <td>...</td>\n",
              "      <td>254000</td>\n",
              "      <td>0</td>\n",
              "      <td>-0.011943</td>\n",
              "      <td>302260</td>\n",
              "      <td>NACIONAL</td>\n",
              "      <td>0</td>\n",
              "      <td>0</td>\n",
              "      <td>-0.054386</td>\n",
              "      <td>0</td>\n",
              "      <td>0</td>\n",
              "    </tr>\n",
              "    <tr>\n",
              "      <th>1</th>\n",
              "      <td>0</td>\n",
              "      <td>1</td>\n",
              "      <td>0</td>\n",
              "      <td>1</td>\n",
              "      <td>0</td>\n",
              "      <td>1</td>\n",
              "      <td>2019</td>\n",
              "      <td>1</td>\n",
              "      <td>1</td>\n",
              "      <td>33</td>\n",
              "      <td>...</td>\n",
              "      <td>36000</td>\n",
              "      <td>0</td>\n",
              "      <td>-0.451980</td>\n",
              "      <td>42840</td>\n",
              "      <td>NACIONAL</td>\n",
              "      <td>0</td>\n",
              "      <td>0</td>\n",
              "      <td>-0.054386</td>\n",
              "      <td>0</td>\n",
              "      <td>0</td>\n",
              "    </tr>\n",
              "    <tr>\n",
              "      <th>2</th>\n",
              "      <td>0</td>\n",
              "      <td>1</td>\n",
              "      <td>0</td>\n",
              "      <td>1</td>\n",
              "      <td>0</td>\n",
              "      <td>1</td>\n",
              "      <td>2019</td>\n",
              "      <td>1</td>\n",
              "      <td>1</td>\n",
              "      <td>33</td>\n",
              "      <td>...</td>\n",
              "      <td>2177280</td>\n",
              "      <td>0</td>\n",
              "      <td>3.870234</td>\n",
              "      <td>2590963</td>\n",
              "      <td>NACIONAL</td>\n",
              "      <td>0</td>\n",
              "      <td>0</td>\n",
              "      <td>-0.054386</td>\n",
              "      <td>0</td>\n",
              "      <td>0</td>\n",
              "    </tr>\n",
              "    <tr>\n",
              "      <th>3</th>\n",
              "      <td>0</td>\n",
              "      <td>1</td>\n",
              "      <td>0</td>\n",
              "      <td>1</td>\n",
              "      <td>0</td>\n",
              "      <td>1</td>\n",
              "      <td>2019</td>\n",
              "      <td>1</td>\n",
              "      <td>1</td>\n",
              "      <td>33</td>\n",
              "      <td>...</td>\n",
              "      <td>589680</td>\n",
              "      <td>0</td>\n",
              "      <td>0.665632</td>\n",
              "      <td>701719</td>\n",
              "      <td>NACIONAL</td>\n",
              "      <td>0</td>\n",
              "      <td>0</td>\n",
              "      <td>-0.054386</td>\n",
              "      <td>0</td>\n",
              "      <td>0</td>\n",
              "    </tr>\n",
              "    <tr>\n",
              "      <th>4</th>\n",
              "      <td>0</td>\n",
              "      <td>1</td>\n",
              "      <td>0</td>\n",
              "      <td>1</td>\n",
              "      <td>0</td>\n",
              "      <td>1</td>\n",
              "      <td>2019</td>\n",
              "      <td>1</td>\n",
              "      <td>1</td>\n",
              "      <td>33</td>\n",
              "      <td>...</td>\n",
              "      <td>256032</td>\n",
              "      <td>0</td>\n",
              "      <td>-0.007842</td>\n",
              "      <td>304678</td>\n",
              "      <td>NACIONAL</td>\n",
              "      <td>0</td>\n",
              "      <td>0</td>\n",
              "      <td>-0.054386</td>\n",
              "      <td>0</td>\n",
              "      <td>0</td>\n",
              "    </tr>\n",
              "  </tbody>\n",
              "</table>\n",
              "<p>5 rows × 33 columns</p>\n",
              "</div>\n",
              "      <button class=\"colab-df-convert\" onclick=\"convertToInteractive('df-0f0cd1cd-d922-4440-acd5-0368fa26dc36')\"\n",
              "              title=\"Convert this dataframe to an interactive table.\"\n",
              "              style=\"display:none;\">\n",
              "        \n",
              "  <svg xmlns=\"http://www.w3.org/2000/svg\" height=\"24px\"viewBox=\"0 0 24 24\"\n",
              "       width=\"24px\">\n",
              "    <path d=\"M0 0h24v24H0V0z\" fill=\"none\"/>\n",
              "    <path d=\"M18.56 5.44l.94 2.06.94-2.06 2.06-.94-2.06-.94-.94-2.06-.94 2.06-2.06.94zm-11 1L8.5 8.5l.94-2.06 2.06-.94-2.06-.94L8.5 2.5l-.94 2.06-2.06.94zm10 10l.94 2.06.94-2.06 2.06-.94-2.06-.94-.94-2.06-.94 2.06-2.06.94z\"/><path d=\"M17.41 7.96l-1.37-1.37c-.4-.4-.92-.59-1.43-.59-.52 0-1.04.2-1.43.59L10.3 9.45l-7.72 7.72c-.78.78-.78 2.05 0 2.83L4 21.41c.39.39.9.59 1.41.59.51 0 1.02-.2 1.41-.59l7.78-7.78 2.81-2.81c.8-.78.8-2.07 0-2.86zM5.41 20L4 18.59l7.72-7.72 1.47 1.35L5.41 20z\"/>\n",
              "  </svg>\n",
              "      </button>\n",
              "      \n",
              "  <style>\n",
              "    .colab-df-container {\n",
              "      display:flex;\n",
              "      flex-wrap:wrap;\n",
              "      gap: 12px;\n",
              "    }\n",
              "\n",
              "    .colab-df-convert {\n",
              "      background-color: #E8F0FE;\n",
              "      border: none;\n",
              "      border-radius: 50%;\n",
              "      cursor: pointer;\n",
              "      display: none;\n",
              "      fill: #1967D2;\n",
              "      height: 32px;\n",
              "      padding: 0 0 0 0;\n",
              "      width: 32px;\n",
              "    }\n",
              "\n",
              "    .colab-df-convert:hover {\n",
              "      background-color: #E2EBFA;\n",
              "      box-shadow: 0px 1px 2px rgba(60, 64, 67, 0.3), 0px 1px 3px 1px rgba(60, 64, 67, 0.15);\n",
              "      fill: #174EA6;\n",
              "    }\n",
              "\n",
              "    [theme=dark] .colab-df-convert {\n",
              "      background-color: #3B4455;\n",
              "      fill: #D2E3FC;\n",
              "    }\n",
              "\n",
              "    [theme=dark] .colab-df-convert:hover {\n",
              "      background-color: #434B5C;\n",
              "      box-shadow: 0px 1px 3px 1px rgba(0, 0, 0, 0.15);\n",
              "      filter: drop-shadow(0px 1px 2px rgba(0, 0, 0, 0.3));\n",
              "      fill: #FFFFFF;\n",
              "    }\n",
              "  </style>\n",
              "\n",
              "      <script>\n",
              "        const buttonEl =\n",
              "          document.querySelector('#df-0f0cd1cd-d922-4440-acd5-0368fa26dc36 button.colab-df-convert');\n",
              "        buttonEl.style.display =\n",
              "          google.colab.kernel.accessAllowed ? 'block' : 'none';\n",
              "\n",
              "        async function convertToInteractive(key) {\n",
              "          const element = document.querySelector('#df-0f0cd1cd-d922-4440-acd5-0368fa26dc36');\n",
              "          const dataTable =\n",
              "            await google.colab.kernel.invokeFunction('convertToInteractive',\n",
              "                                                     [key], {});\n",
              "          if (!dataTable) return;\n",
              "\n",
              "          const docLinkHtml = 'Like what you see? Visit the ' +\n",
              "            '<a target=\"_blank\" href=https://colab.research.google.com/notebooks/data_table.ipynb>data table notebook</a>'\n",
              "            + ' to learn more about interactive tables.';\n",
              "          element.innerHTML = '';\n",
              "          dataTable['output_type'] = 'display_data';\n",
              "          await google.colab.output.renderOutput(dataTable, element);\n",
              "          const docLink = document.createElement('div');\n",
              "          docLink.innerHTML = docLinkHtml;\n",
              "          element.appendChild(docLink);\n",
              "        }\n",
              "      </script>\n",
              "    </div>\n",
              "  </div>\n",
              "  "
            ]
          },
          "metadata": {},
          "execution_count": 17
        }
      ],
      "source": [
        "alldata=[] # lista para guardar resultados de One hot Encoding\n",
        "alldata1=[] # lista para guardar resultados de \n",
        "variables=[] # ir guardando las variables\n",
        "for i in df_x.columns: # iterar sobre todas las columnas\n",
        "  if df_x[i].dtype == 'O': # Quedarme con las que sean tipo object\n",
        "    if len(df_x[i].unique()) ==2: # Si solo tienen dos categorias aplicar One Hot Encoding\n",
        "      print('Variable 2 categorias:',i)\n",
        "      y= pd.get_dummies(df_x[i]) # Aplicar One Hot Encoding\n",
        "      alldata.append(y) # ir agregando las columnas resultantes en alldata\n",
        "      variables.append(i)\n",
        "    else:\n",
        "      pass\n",
        "    print('--------------------')\n",
        "    if len(df_x[i].unique()) >2: # Si las categorias tienen mas de 2 categorias aplicar LabelEncoder\n",
        "      print('Variable >2 categorias:',i)\n",
        "      z= pd.DataFrame()\n",
        "      z[i]=df_x[i].astype('category').cat.codes # Aplicar Label Encoder\n",
        "      alldata1.append(z) # Agregar a la lista alldata1\n",
        "      variables.append(i) #\n",
        "  if df_x[i].dtype == 'float64': # Si la columna es numerica entonces normalizar z score\n",
        "    df_x[i]=(df_x[i]-df_x[i].mean())/(df_x[i].std()) # yapo\n",
        "data_y=pd.concat(alldata, axis=1) # concatenar las columnas obtenidas One hot Encoding\n",
        "data_z=pd.concat(alldata1, axis=1) # concatenar las columnas de Label Encoder\n",
        "df_y= pd.concat([data_y,data_z,df_x],axis=1) # Unir todos los datasets One Hot Encoding, LabelEncoder, Z score\n",
        "df_y=df_y.drop(labels=variables, axis=1) # Borrar las columnas ya recodificadas\n",
        "df_y.head() # mostrar que quedo "
      ]
    },
    {
      "cell_type": "code",
      "execution_count": 18,
      "metadata": {
        "colab": {
          "base_uri": "https://localhost:8080/"
        },
        "id": "1LKUdeeUUL17",
        "outputId": "e1c8936c-603d-4c33-8d65-1595b9bbdfd7"
      },
      "outputs": [
        {
          "output_type": "stream",
          "name": "stdout",
          "text": [
            "<class 'pandas.core.frame.DataFrame'>\n",
            "Int64Index: 73812 entries, 0 to 73828\n",
            "Data columns (total 63 columns):\n",
            " #   Column                 Non-Null Count  Dtype         \n",
            "---  ------                 --------------  -----         \n",
            " 0   AÑO                    73812 non-null  int64         \n",
            " 1   MES                    73812 non-null  int64         \n",
            " 2   LOCAL                  73812 non-null  int64         \n",
            " 3   COD_DTE                73812 non-null  int64         \n",
            " 4   TIPO_DE_DCTO.          73812 non-null  object        \n",
            " 5   ESTADO                 73812 non-null  object        \n",
            " 6   NºDOCTO                73812 non-null  int64         \n",
            " 7   _FECHA                 73812 non-null  datetime64[ns]\n",
            " 8   FECHA_VCTO             73812 non-null  datetime64[ns]\n",
            " 9   RUT                    73812 non-null  object        \n",
            " 10  CLIENTE                73812 non-null  object        \n",
            " 11  DIRECCION              73812 non-null  object        \n",
            " 12  COMUNA                 73812 non-null  object        \n",
            " 13  CIUDAD                 73812 non-null  object        \n",
            " 14  GIRO                   73812 non-null  object        \n",
            " 15  TELEFONO               73812 non-null  object        \n",
            " 16  CELULAR                73812 non-null  object        \n",
            " 17  FORMA_DE_PAGO          73812 non-null  object        \n",
            " 18  LISTA_PRECIO           73812 non-null  object        \n",
            " 19  VENDEDOR               73812 non-null  object        \n",
            " 20  COD_LOCAL_DESPACHO     73812 non-null  float64       \n",
            " 21  NOMBRE_LOCAL           73812 non-null  object        \n",
            " 22  DIRECC_LOCAL_DESP      73812 non-null  object        \n",
            " 23  COMUNA_LOCAL_DESPACHO  73812 non-null  object        \n",
            " 24  CIUDAD_LOCAL_DESP      73812 non-null  object        \n",
            " 25  NOMBRE_TRANSPORTE      73812 non-null  object        \n",
            " 26  NOMBRE_CHOFER          73812 non-null  object        \n",
            " 27  VEHICULO               73812 non-null  object        \n",
            " 28  Nº_OC                  73812 non-null  object        \n",
            " 29  Nº_GD                  73812 non-null  object        \n",
            " 30  FAMILIA_1              73812 non-null  object        \n",
            " 31  FAMILIA_2              73812 non-null  object        \n",
            " 32  FAMILIA_3              73812 non-null  object        \n",
            " 33  COD.PRODUCTO           73812 non-null  object        \n",
            " 34  PRODUCTO               73812 non-null  object        \n",
            " 35  CANT.UMA               73812 non-null  int64         \n",
            " 36  UNI.MED                73812 non-null  object        \n",
            " 37  TALLA                  73812 non-null  object        \n",
            " 38  LINEA_EXENTA           73812 non-null  int64         \n",
            " 39  CANTIDAD               73812 non-null  int64         \n",
            " 40  PRECIO_UNITARIO        73812 non-null  float64       \n",
            " 41  PRECIO_COSTO           73812 non-null  float64       \n",
            " 42  TOTAl_LINEA            73812 non-null  int64         \n",
            " 43  %_DESCUENTO_LINEA      73812 non-null  int64         \n",
            " 44  TOTAL_DESCUENTO_LINEA  73812 non-null  int64         \n",
            " 45  VALOR_NETO_            73812 non-null  int64         \n",
            " 46  VALOR_EXENTO           73812 non-null  int64         \n",
            " 47  _VALOR_IVA             73812 non-null  float64       \n",
            " 48  VALOR_TOTAL            73812 non-null  int64         \n",
            " 49  REGISTRO_FISCAL5       73812 non-null  object        \n",
            " 50  RUT_SUBDIVISION        73812 non-null  object        \n",
            " 51  PROCEDENCIA            73812 non-null  object        \n",
            " 52  TALLA/PAIS             73812 non-null  object        \n",
            " 53  COLOR/MARCA            73812 non-null  object        \n",
            " 54  TIPO_REF_1             73812 non-null  object        \n",
            " 55  NUM_REF_1              73812 non-null  object        \n",
            " 56  FECHA_REF_1            73812 non-null  object        \n",
            " 57  _RAZON_REF_1           73812 non-null  object        \n",
            " 58  MUEVE_STOCK            73812 non-null  int64         \n",
            " 59  PRECIO_UNIT.BRUTO      73812 non-null  int64         \n",
            " 60  PRECIO_UNIT.NETO       73812 non-null  float64       \n",
            " 61  MONTO_DESCTO_GLOBAL    73812 non-null  int64         \n",
            " 62  TOTAL_LINEA_NETO       73812 non-null  int64         \n",
            "dtypes: datetime64[ns](2), float64(5), int64(18), object(38)\n",
            "memory usage: 36.0+ MB\n"
          ]
        }
      ],
      "source": [
        "df_x.info()"
      ]
    },
    {
      "cell_type": "code",
      "execution_count": 19,
      "metadata": {
        "colab": {
          "base_uri": "https://localhost:8080/"
        },
        "id": "CochSOzVeQMO",
        "outputId": "ca6e13fc-48e9-47bc-9c79-d3c73566e319"
      },
      "outputs": [
        {
          "output_type": "stream",
          "name": "stdout",
          "text": [
            "<class 'pandas.core.frame.DataFrame'>\n",
            "Int64Index: 73812 entries, 0 to 73828\n",
            "Data columns (total 33 columns):\n",
            " #   Column                 Non-Null Count  Dtype         \n",
            "---  ------                 --------------  -----         \n",
            " 0   INSUMOS                73812 non-null  uint8         \n",
            " 1   PRODUCTOS TERMINADOS   73812 non-null  uint8         \n",
            " 2   KILOS                  73812 non-null  uint8         \n",
            " 3   UNIDAD                 73812 non-null  uint8         \n",
            " 4   0-                     73812 non-null  uint8         \n",
            " 5   0-0                    73812 non-null  uint8         \n",
            " 6   AÑO                    73812 non-null  int64         \n",
            " 7   MES                    73812 non-null  int64         \n",
            " 8   LOCAL                  73812 non-null  int64         \n",
            " 9   COD_DTE                73812 non-null  int64         \n",
            " 10  ESTADO                 73812 non-null  object        \n",
            " 11  NºDOCTO                73812 non-null  int64         \n",
            " 12  _FECHA                 73812 non-null  datetime64[ns]\n",
            " 13  FECHA_VCTO             73812 non-null  datetime64[ns]\n",
            " 14  COD_LOCAL_DESPACHO     73812 non-null  float64       \n",
            " 15  CANT.UMA               73812 non-null  int64         \n",
            " 16  LINEA_EXENTA           73812 non-null  int64         \n",
            " 17  CANTIDAD               73812 non-null  int64         \n",
            " 18  PRECIO_UNITARIO        73812 non-null  float64       \n",
            " 19  PRECIO_COSTO           73812 non-null  float64       \n",
            " 20  TOTAl_LINEA            73812 non-null  int64         \n",
            " 21  %_DESCUENTO_LINEA      73812 non-null  int64         \n",
            " 22  TOTAL_DESCUENTO_LINEA  73812 non-null  int64         \n",
            " 23  VALOR_NETO_            73812 non-null  int64         \n",
            " 24  VALOR_EXENTO           73812 non-null  int64         \n",
            " 25  _VALOR_IVA             73812 non-null  float64       \n",
            " 26  VALOR_TOTAL            73812 non-null  int64         \n",
            " 27  PROCEDENCIA            73812 non-null  object        \n",
            " 28  MUEVE_STOCK            73812 non-null  int64         \n",
            " 29  PRECIO_UNIT.BRUTO      73812 non-null  int64         \n",
            " 30  PRECIO_UNIT.NETO       73812 non-null  float64       \n",
            " 31  MONTO_DESCTO_GLOBAL    73812 non-null  int64         \n",
            " 32  TOTAL_LINEA_NETO       73812 non-null  int64         \n",
            "dtypes: datetime64[ns](2), float64(5), int64(18), object(2), uint8(6)\n",
            "memory usage: 16.2+ MB\n"
          ]
        }
      ],
      "source": [
        "df_y.info()"
      ]
    },
    {
      "cell_type": "code",
      "execution_count": 20,
      "metadata": {
        "colab": {
          "base_uri": "https://localhost:8080/",
          "height": 317
        },
        "id": "yD6OLcQG2ZsZ",
        "outputId": "1296ad03-10d3-44b4-8b53-70bd1649d327"
      },
      "outputs": [
        {
          "output_type": "execute_result",
          "data": {
            "text/plain": [
              "   INSUMOS  PRODUCTOS TERMINADOS  KILOS  UNIDAD  0-   0-0   AÑO  MES  LOCAL  \\\n",
              "0        0                     1      0       1    0    1  2019    1      1   \n",
              "1        0                     1      0       1    0    1  2019    1      1   \n",
              "2        0                     1      0       1    0    1  2019    1      1   \n",
              "3        0                     1      0       1    0    1  2019    1      1   \n",
              "4        0                     1      0       1    0    1  2019    1      1   \n",
              "\n",
              "   COD_DTE  ... VALOR_NETO_  VALOR_EXENTO _VALOR_IVA VALOR_TOTAL  PROCEDENCIA  \\\n",
              "0       33  ...      254000             0  -0.011943      302260     NACIONAL   \n",
              "1       33  ...       36000             0  -0.451980       42840     NACIONAL   \n",
              "2       33  ...     2177280             0   3.870234     2590963     NACIONAL   \n",
              "3       33  ...      589680             0   0.665632      701719     NACIONAL   \n",
              "4       33  ...      256032             0  -0.007842      304678     NACIONAL   \n",
              "\n",
              "   MUEVE_STOCK  PRECIO_UNIT.BRUTO  PRECIO_UNIT.NETO  MONTO_DESCTO_GLOBAL  \\\n",
              "0            0                  0         -0.054386                    0   \n",
              "1            0                  0         -0.054386                    0   \n",
              "2            0                  0         -0.054386                    0   \n",
              "3            0                  0         -0.054386                    0   \n",
              "4            0                  0         -0.054386                    0   \n",
              "\n",
              "   TOTAL_LINEA_NETO  \n",
              "0                 0  \n",
              "1                 0  \n",
              "2                 0  \n",
              "3                 0  \n",
              "4                 0  \n",
              "\n",
              "[5 rows x 33 columns]"
            ],
            "text/html": [
              "\n",
              "  <div id=\"df-659f27db-3628-4ae2-ba37-c99978e714a0\">\n",
              "    <div class=\"colab-df-container\">\n",
              "      <div>\n",
              "<style scoped>\n",
              "    .dataframe tbody tr th:only-of-type {\n",
              "        vertical-align: middle;\n",
              "    }\n",
              "\n",
              "    .dataframe tbody tr th {\n",
              "        vertical-align: top;\n",
              "    }\n",
              "\n",
              "    .dataframe thead th {\n",
              "        text-align: right;\n",
              "    }\n",
              "</style>\n",
              "<table border=\"1\" class=\"dataframe\">\n",
              "  <thead>\n",
              "    <tr style=\"text-align: right;\">\n",
              "      <th></th>\n",
              "      <th>INSUMOS</th>\n",
              "      <th>PRODUCTOS TERMINADOS</th>\n",
              "      <th>KILOS</th>\n",
              "      <th>UNIDAD</th>\n",
              "      <th>0-</th>\n",
              "      <th>0-0</th>\n",
              "      <th>AÑO</th>\n",
              "      <th>MES</th>\n",
              "      <th>LOCAL</th>\n",
              "      <th>COD_DTE</th>\n",
              "      <th>...</th>\n",
              "      <th>VALOR_NETO_</th>\n",
              "      <th>VALOR_EXENTO</th>\n",
              "      <th>_VALOR_IVA</th>\n",
              "      <th>VALOR_TOTAL</th>\n",
              "      <th>PROCEDENCIA</th>\n",
              "      <th>MUEVE_STOCK</th>\n",
              "      <th>PRECIO_UNIT.BRUTO</th>\n",
              "      <th>PRECIO_UNIT.NETO</th>\n",
              "      <th>MONTO_DESCTO_GLOBAL</th>\n",
              "      <th>TOTAL_LINEA_NETO</th>\n",
              "    </tr>\n",
              "  </thead>\n",
              "  <tbody>\n",
              "    <tr>\n",
              "      <th>0</th>\n",
              "      <td>0</td>\n",
              "      <td>1</td>\n",
              "      <td>0</td>\n",
              "      <td>1</td>\n",
              "      <td>0</td>\n",
              "      <td>1</td>\n",
              "      <td>2019</td>\n",
              "      <td>1</td>\n",
              "      <td>1</td>\n",
              "      <td>33</td>\n",
              "      <td>...</td>\n",
              "      <td>254000</td>\n",
              "      <td>0</td>\n",
              "      <td>-0.011943</td>\n",
              "      <td>302260</td>\n",
              "      <td>NACIONAL</td>\n",
              "      <td>0</td>\n",
              "      <td>0</td>\n",
              "      <td>-0.054386</td>\n",
              "      <td>0</td>\n",
              "      <td>0</td>\n",
              "    </tr>\n",
              "    <tr>\n",
              "      <th>1</th>\n",
              "      <td>0</td>\n",
              "      <td>1</td>\n",
              "      <td>0</td>\n",
              "      <td>1</td>\n",
              "      <td>0</td>\n",
              "      <td>1</td>\n",
              "      <td>2019</td>\n",
              "      <td>1</td>\n",
              "      <td>1</td>\n",
              "      <td>33</td>\n",
              "      <td>...</td>\n",
              "      <td>36000</td>\n",
              "      <td>0</td>\n",
              "      <td>-0.451980</td>\n",
              "      <td>42840</td>\n",
              "      <td>NACIONAL</td>\n",
              "      <td>0</td>\n",
              "      <td>0</td>\n",
              "      <td>-0.054386</td>\n",
              "      <td>0</td>\n",
              "      <td>0</td>\n",
              "    </tr>\n",
              "    <tr>\n",
              "      <th>2</th>\n",
              "      <td>0</td>\n",
              "      <td>1</td>\n",
              "      <td>0</td>\n",
              "      <td>1</td>\n",
              "      <td>0</td>\n",
              "      <td>1</td>\n",
              "      <td>2019</td>\n",
              "      <td>1</td>\n",
              "      <td>1</td>\n",
              "      <td>33</td>\n",
              "      <td>...</td>\n",
              "      <td>2177280</td>\n",
              "      <td>0</td>\n",
              "      <td>3.870234</td>\n",
              "      <td>2590963</td>\n",
              "      <td>NACIONAL</td>\n",
              "      <td>0</td>\n",
              "      <td>0</td>\n",
              "      <td>-0.054386</td>\n",
              "      <td>0</td>\n",
              "      <td>0</td>\n",
              "    </tr>\n",
              "    <tr>\n",
              "      <th>3</th>\n",
              "      <td>0</td>\n",
              "      <td>1</td>\n",
              "      <td>0</td>\n",
              "      <td>1</td>\n",
              "      <td>0</td>\n",
              "      <td>1</td>\n",
              "      <td>2019</td>\n",
              "      <td>1</td>\n",
              "      <td>1</td>\n",
              "      <td>33</td>\n",
              "      <td>...</td>\n",
              "      <td>589680</td>\n",
              "      <td>0</td>\n",
              "      <td>0.665632</td>\n",
              "      <td>701719</td>\n",
              "      <td>NACIONAL</td>\n",
              "      <td>0</td>\n",
              "      <td>0</td>\n",
              "      <td>-0.054386</td>\n",
              "      <td>0</td>\n",
              "      <td>0</td>\n",
              "    </tr>\n",
              "    <tr>\n",
              "      <th>4</th>\n",
              "      <td>0</td>\n",
              "      <td>1</td>\n",
              "      <td>0</td>\n",
              "      <td>1</td>\n",
              "      <td>0</td>\n",
              "      <td>1</td>\n",
              "      <td>2019</td>\n",
              "      <td>1</td>\n",
              "      <td>1</td>\n",
              "      <td>33</td>\n",
              "      <td>...</td>\n",
              "      <td>256032</td>\n",
              "      <td>0</td>\n",
              "      <td>-0.007842</td>\n",
              "      <td>304678</td>\n",
              "      <td>NACIONAL</td>\n",
              "      <td>0</td>\n",
              "      <td>0</td>\n",
              "      <td>-0.054386</td>\n",
              "      <td>0</td>\n",
              "      <td>0</td>\n",
              "    </tr>\n",
              "  </tbody>\n",
              "</table>\n",
              "<p>5 rows × 33 columns</p>\n",
              "</div>\n",
              "      <button class=\"colab-df-convert\" onclick=\"convertToInteractive('df-659f27db-3628-4ae2-ba37-c99978e714a0')\"\n",
              "              title=\"Convert this dataframe to an interactive table.\"\n",
              "              style=\"display:none;\">\n",
              "        \n",
              "  <svg xmlns=\"http://www.w3.org/2000/svg\" height=\"24px\"viewBox=\"0 0 24 24\"\n",
              "       width=\"24px\">\n",
              "    <path d=\"M0 0h24v24H0V0z\" fill=\"none\"/>\n",
              "    <path d=\"M18.56 5.44l.94 2.06.94-2.06 2.06-.94-2.06-.94-.94-2.06-.94 2.06-2.06.94zm-11 1L8.5 8.5l.94-2.06 2.06-.94-2.06-.94L8.5 2.5l-.94 2.06-2.06.94zm10 10l.94 2.06.94-2.06 2.06-.94-2.06-.94-.94-2.06-.94 2.06-2.06.94z\"/><path d=\"M17.41 7.96l-1.37-1.37c-.4-.4-.92-.59-1.43-.59-.52 0-1.04.2-1.43.59L10.3 9.45l-7.72 7.72c-.78.78-.78 2.05 0 2.83L4 21.41c.39.39.9.59 1.41.59.51 0 1.02-.2 1.41-.59l7.78-7.78 2.81-2.81c.8-.78.8-2.07 0-2.86zM5.41 20L4 18.59l7.72-7.72 1.47 1.35L5.41 20z\"/>\n",
              "  </svg>\n",
              "      </button>\n",
              "      \n",
              "  <style>\n",
              "    .colab-df-container {\n",
              "      display:flex;\n",
              "      flex-wrap:wrap;\n",
              "      gap: 12px;\n",
              "    }\n",
              "\n",
              "    .colab-df-convert {\n",
              "      background-color: #E8F0FE;\n",
              "      border: none;\n",
              "      border-radius: 50%;\n",
              "      cursor: pointer;\n",
              "      display: none;\n",
              "      fill: #1967D2;\n",
              "      height: 32px;\n",
              "      padding: 0 0 0 0;\n",
              "      width: 32px;\n",
              "    }\n",
              "\n",
              "    .colab-df-convert:hover {\n",
              "      background-color: #E2EBFA;\n",
              "      box-shadow: 0px 1px 2px rgba(60, 64, 67, 0.3), 0px 1px 3px 1px rgba(60, 64, 67, 0.15);\n",
              "      fill: #174EA6;\n",
              "    }\n",
              "\n",
              "    [theme=dark] .colab-df-convert {\n",
              "      background-color: #3B4455;\n",
              "      fill: #D2E3FC;\n",
              "    }\n",
              "\n",
              "    [theme=dark] .colab-df-convert:hover {\n",
              "      background-color: #434B5C;\n",
              "      box-shadow: 0px 1px 3px 1px rgba(0, 0, 0, 0.15);\n",
              "      filter: drop-shadow(0px 1px 2px rgba(0, 0, 0, 0.3));\n",
              "      fill: #FFFFFF;\n",
              "    }\n",
              "  </style>\n",
              "\n",
              "      <script>\n",
              "        const buttonEl =\n",
              "          document.querySelector('#df-659f27db-3628-4ae2-ba37-c99978e714a0 button.colab-df-convert');\n",
              "        buttonEl.style.display =\n",
              "          google.colab.kernel.accessAllowed ? 'block' : 'none';\n",
              "\n",
              "        async function convertToInteractive(key) {\n",
              "          const element = document.querySelector('#df-659f27db-3628-4ae2-ba37-c99978e714a0');\n",
              "          const dataTable =\n",
              "            await google.colab.kernel.invokeFunction('convertToInteractive',\n",
              "                                                     [key], {});\n",
              "          if (!dataTable) return;\n",
              "\n",
              "          const docLinkHtml = 'Like what you see? Visit the ' +\n",
              "            '<a target=\"_blank\" href=https://colab.research.google.com/notebooks/data_table.ipynb>data table notebook</a>'\n",
              "            + ' to learn more about interactive tables.';\n",
              "          element.innerHTML = '';\n",
              "          dataTable['output_type'] = 'display_data';\n",
              "          await google.colab.output.renderOutput(dataTable, element);\n",
              "          const docLink = document.createElement('div');\n",
              "          docLink.innerHTML = docLinkHtml;\n",
              "          element.appendChild(docLink);\n",
              "        }\n",
              "      </script>\n",
              "    </div>\n",
              "  </div>\n",
              "  "
            ]
          },
          "metadata": {},
          "execution_count": 20
        }
      ],
      "source": [
        "df_y.head()"
      ]
    },
    {
      "cell_type": "code",
      "execution_count": 21,
      "metadata": {
        "id": "Ytq8UCYYMGfy"
      },
      "outputs": [],
      "source": [
        "df_1 = pd.concat([df_x,df_y])"
      ]
    },
    {
      "cell_type": "code",
      "source": [
        "print(df_1.shape)"
      ],
      "metadata": {
        "colab": {
          "base_uri": "https://localhost:8080/"
        },
        "id": "3jI-vMyjqsam",
        "outputId": "34c3f598-fca5-4c1a-b58d-16b06b2c09de"
      },
      "execution_count": 22,
      "outputs": [
        {
          "output_type": "stream",
          "name": "stdout",
          "text": [
            "(147624, 69)\n"
          ]
        }
      ]
    },
    {
      "cell_type": "code",
      "execution_count": 23,
      "metadata": {
        "id": "k-JJ62IgcUaZ"
      },
      "outputs": [],
      "source": [
        "df_Netostotales = df_1.groupby('AÑO')[['VALOR_NETO_']].sum()"
      ]
    },
    {
      "cell_type": "code",
      "execution_count": 24,
      "metadata": {
        "colab": {
          "base_uri": "https://localhost:8080/",
          "height": 206
        },
        "id": "2mRhYUjXcUPm",
        "outputId": "5bbfc9e3-a478-44b9-e982-c3e76f403718"
      },
      "outputs": [
        {
          "output_type": "execute_result",
          "data": {
            "text/plain": [
              "      VALOR_NETO_\n",
              "AÑO              \n",
              "2019   7943914518\n",
              "2020  10108266848\n",
              "2021  12197450788\n",
              "2022   8119977152"
            ],
            "text/html": [
              "\n",
              "  <div id=\"df-16c12e36-7461-403e-8fee-210ca1440251\">\n",
              "    <div class=\"colab-df-container\">\n",
              "      <div>\n",
              "<style scoped>\n",
              "    .dataframe tbody tr th:only-of-type {\n",
              "        vertical-align: middle;\n",
              "    }\n",
              "\n",
              "    .dataframe tbody tr th {\n",
              "        vertical-align: top;\n",
              "    }\n",
              "\n",
              "    .dataframe thead th {\n",
              "        text-align: right;\n",
              "    }\n",
              "</style>\n",
              "<table border=\"1\" class=\"dataframe\">\n",
              "  <thead>\n",
              "    <tr style=\"text-align: right;\">\n",
              "      <th></th>\n",
              "      <th>VALOR_NETO_</th>\n",
              "    </tr>\n",
              "    <tr>\n",
              "      <th>AÑO</th>\n",
              "      <th></th>\n",
              "    </tr>\n",
              "  </thead>\n",
              "  <tbody>\n",
              "    <tr>\n",
              "      <th>2019</th>\n",
              "      <td>7943914518</td>\n",
              "    </tr>\n",
              "    <tr>\n",
              "      <th>2020</th>\n",
              "      <td>10108266848</td>\n",
              "    </tr>\n",
              "    <tr>\n",
              "      <th>2021</th>\n",
              "      <td>12197450788</td>\n",
              "    </tr>\n",
              "    <tr>\n",
              "      <th>2022</th>\n",
              "      <td>8119977152</td>\n",
              "    </tr>\n",
              "  </tbody>\n",
              "</table>\n",
              "</div>\n",
              "      <button class=\"colab-df-convert\" onclick=\"convertToInteractive('df-16c12e36-7461-403e-8fee-210ca1440251')\"\n",
              "              title=\"Convert this dataframe to an interactive table.\"\n",
              "              style=\"display:none;\">\n",
              "        \n",
              "  <svg xmlns=\"http://www.w3.org/2000/svg\" height=\"24px\"viewBox=\"0 0 24 24\"\n",
              "       width=\"24px\">\n",
              "    <path d=\"M0 0h24v24H0V0z\" fill=\"none\"/>\n",
              "    <path d=\"M18.56 5.44l.94 2.06.94-2.06 2.06-.94-2.06-.94-.94-2.06-.94 2.06-2.06.94zm-11 1L8.5 8.5l.94-2.06 2.06-.94-2.06-.94L8.5 2.5l-.94 2.06-2.06.94zm10 10l.94 2.06.94-2.06 2.06-.94-2.06-.94-.94-2.06-.94 2.06-2.06.94z\"/><path d=\"M17.41 7.96l-1.37-1.37c-.4-.4-.92-.59-1.43-.59-.52 0-1.04.2-1.43.59L10.3 9.45l-7.72 7.72c-.78.78-.78 2.05 0 2.83L4 21.41c.39.39.9.59 1.41.59.51 0 1.02-.2 1.41-.59l7.78-7.78 2.81-2.81c.8-.78.8-2.07 0-2.86zM5.41 20L4 18.59l7.72-7.72 1.47 1.35L5.41 20z\"/>\n",
              "  </svg>\n",
              "      </button>\n",
              "      \n",
              "  <style>\n",
              "    .colab-df-container {\n",
              "      display:flex;\n",
              "      flex-wrap:wrap;\n",
              "      gap: 12px;\n",
              "    }\n",
              "\n",
              "    .colab-df-convert {\n",
              "      background-color: #E8F0FE;\n",
              "      border: none;\n",
              "      border-radius: 50%;\n",
              "      cursor: pointer;\n",
              "      display: none;\n",
              "      fill: #1967D2;\n",
              "      height: 32px;\n",
              "      padding: 0 0 0 0;\n",
              "      width: 32px;\n",
              "    }\n",
              "\n",
              "    .colab-df-convert:hover {\n",
              "      background-color: #E2EBFA;\n",
              "      box-shadow: 0px 1px 2px rgba(60, 64, 67, 0.3), 0px 1px 3px 1px rgba(60, 64, 67, 0.15);\n",
              "      fill: #174EA6;\n",
              "    }\n",
              "\n",
              "    [theme=dark] .colab-df-convert {\n",
              "      background-color: #3B4455;\n",
              "      fill: #D2E3FC;\n",
              "    }\n",
              "\n",
              "    [theme=dark] .colab-df-convert:hover {\n",
              "      background-color: #434B5C;\n",
              "      box-shadow: 0px 1px 3px 1px rgba(0, 0, 0, 0.15);\n",
              "      filter: drop-shadow(0px 1px 2px rgba(0, 0, 0, 0.3));\n",
              "      fill: #FFFFFF;\n",
              "    }\n",
              "  </style>\n",
              "\n",
              "      <script>\n",
              "        const buttonEl =\n",
              "          document.querySelector('#df-16c12e36-7461-403e-8fee-210ca1440251 button.colab-df-convert');\n",
              "        buttonEl.style.display =\n",
              "          google.colab.kernel.accessAllowed ? 'block' : 'none';\n",
              "\n",
              "        async function convertToInteractive(key) {\n",
              "          const element = document.querySelector('#df-16c12e36-7461-403e-8fee-210ca1440251');\n",
              "          const dataTable =\n",
              "            await google.colab.kernel.invokeFunction('convertToInteractive',\n",
              "                                                     [key], {});\n",
              "          if (!dataTable) return;\n",
              "\n",
              "          const docLinkHtml = 'Like what you see? Visit the ' +\n",
              "            '<a target=\"_blank\" href=https://colab.research.google.com/notebooks/data_table.ipynb>data table notebook</a>'\n",
              "            + ' to learn more about interactive tables.';\n",
              "          element.innerHTML = '';\n",
              "          dataTable['output_type'] = 'display_data';\n",
              "          await google.colab.output.renderOutput(dataTable, element);\n",
              "          const docLink = document.createElement('div');\n",
              "          docLink.innerHTML = docLinkHtml;\n",
              "          element.appendChild(docLink);\n",
              "        }\n",
              "      </script>\n",
              "    </div>\n",
              "  </div>\n",
              "  "
            ]
          },
          "metadata": {},
          "execution_count": 24
        }
      ],
      "source": [
        "df_Netostotales"
      ]
    },
    {
      "cell_type": "code",
      "execution_count": 25,
      "metadata": {
        "id": "Vzuvsk7UgPSm"
      },
      "outputs": [],
      "source": [
        "df_Vtaanocompleto = df_1.drop(df_1[df_1['AÑO']>=2022].index)"
      ]
    },
    {
      "cell_type": "code",
      "execution_count": 26,
      "metadata": {
        "id": "6S64F3OTjYdA"
      },
      "outputs": [],
      "source": [
        "df_Netostotales2 = df_Vtaanocompleto.groupby('AÑO')[['VALOR_NETO_']].sum()"
      ]
    },
    {
      "cell_type": "code",
      "execution_count": 27,
      "metadata": {
        "colab": {
          "base_uri": "https://localhost:8080/",
          "height": 175
        },
        "id": "EG7DFrhojYWy",
        "outputId": "f2ee72c4-5e8c-4d89-beea-7251305c7b4a"
      },
      "outputs": [
        {
          "output_type": "execute_result",
          "data": {
            "text/plain": [
              "      VALOR_NETO_\n",
              "AÑO              \n",
              "2019   7943914518\n",
              "2020  10108266848\n",
              "2021  12197450788"
            ],
            "text/html": [
              "\n",
              "  <div id=\"df-b794355c-ab91-4776-89f9-3368502f83bf\">\n",
              "    <div class=\"colab-df-container\">\n",
              "      <div>\n",
              "<style scoped>\n",
              "    .dataframe tbody tr th:only-of-type {\n",
              "        vertical-align: middle;\n",
              "    }\n",
              "\n",
              "    .dataframe tbody tr th {\n",
              "        vertical-align: top;\n",
              "    }\n",
              "\n",
              "    .dataframe thead th {\n",
              "        text-align: right;\n",
              "    }\n",
              "</style>\n",
              "<table border=\"1\" class=\"dataframe\">\n",
              "  <thead>\n",
              "    <tr style=\"text-align: right;\">\n",
              "      <th></th>\n",
              "      <th>VALOR_NETO_</th>\n",
              "    </tr>\n",
              "    <tr>\n",
              "      <th>AÑO</th>\n",
              "      <th></th>\n",
              "    </tr>\n",
              "  </thead>\n",
              "  <tbody>\n",
              "    <tr>\n",
              "      <th>2019</th>\n",
              "      <td>7943914518</td>\n",
              "    </tr>\n",
              "    <tr>\n",
              "      <th>2020</th>\n",
              "      <td>10108266848</td>\n",
              "    </tr>\n",
              "    <tr>\n",
              "      <th>2021</th>\n",
              "      <td>12197450788</td>\n",
              "    </tr>\n",
              "  </tbody>\n",
              "</table>\n",
              "</div>\n",
              "      <button class=\"colab-df-convert\" onclick=\"convertToInteractive('df-b794355c-ab91-4776-89f9-3368502f83bf')\"\n",
              "              title=\"Convert this dataframe to an interactive table.\"\n",
              "              style=\"display:none;\">\n",
              "        \n",
              "  <svg xmlns=\"http://www.w3.org/2000/svg\" height=\"24px\"viewBox=\"0 0 24 24\"\n",
              "       width=\"24px\">\n",
              "    <path d=\"M0 0h24v24H0V0z\" fill=\"none\"/>\n",
              "    <path d=\"M18.56 5.44l.94 2.06.94-2.06 2.06-.94-2.06-.94-.94-2.06-.94 2.06-2.06.94zm-11 1L8.5 8.5l.94-2.06 2.06-.94-2.06-.94L8.5 2.5l-.94 2.06-2.06.94zm10 10l.94 2.06.94-2.06 2.06-.94-2.06-.94-.94-2.06-.94 2.06-2.06.94z\"/><path d=\"M17.41 7.96l-1.37-1.37c-.4-.4-.92-.59-1.43-.59-.52 0-1.04.2-1.43.59L10.3 9.45l-7.72 7.72c-.78.78-.78 2.05 0 2.83L4 21.41c.39.39.9.59 1.41.59.51 0 1.02-.2 1.41-.59l7.78-7.78 2.81-2.81c.8-.78.8-2.07 0-2.86zM5.41 20L4 18.59l7.72-7.72 1.47 1.35L5.41 20z\"/>\n",
              "  </svg>\n",
              "      </button>\n",
              "      \n",
              "  <style>\n",
              "    .colab-df-container {\n",
              "      display:flex;\n",
              "      flex-wrap:wrap;\n",
              "      gap: 12px;\n",
              "    }\n",
              "\n",
              "    .colab-df-convert {\n",
              "      background-color: #E8F0FE;\n",
              "      border: none;\n",
              "      border-radius: 50%;\n",
              "      cursor: pointer;\n",
              "      display: none;\n",
              "      fill: #1967D2;\n",
              "      height: 32px;\n",
              "      padding: 0 0 0 0;\n",
              "      width: 32px;\n",
              "    }\n",
              "\n",
              "    .colab-df-convert:hover {\n",
              "      background-color: #E2EBFA;\n",
              "      box-shadow: 0px 1px 2px rgba(60, 64, 67, 0.3), 0px 1px 3px 1px rgba(60, 64, 67, 0.15);\n",
              "      fill: #174EA6;\n",
              "    }\n",
              "\n",
              "    [theme=dark] .colab-df-convert {\n",
              "      background-color: #3B4455;\n",
              "      fill: #D2E3FC;\n",
              "    }\n",
              "\n",
              "    [theme=dark] .colab-df-convert:hover {\n",
              "      background-color: #434B5C;\n",
              "      box-shadow: 0px 1px 3px 1px rgba(0, 0, 0, 0.15);\n",
              "      filter: drop-shadow(0px 1px 2px rgba(0, 0, 0, 0.3));\n",
              "      fill: #FFFFFF;\n",
              "    }\n",
              "  </style>\n",
              "\n",
              "      <script>\n",
              "        const buttonEl =\n",
              "          document.querySelector('#df-b794355c-ab91-4776-89f9-3368502f83bf button.colab-df-convert');\n",
              "        buttonEl.style.display =\n",
              "          google.colab.kernel.accessAllowed ? 'block' : 'none';\n",
              "\n",
              "        async function convertToInteractive(key) {\n",
              "          const element = document.querySelector('#df-b794355c-ab91-4776-89f9-3368502f83bf');\n",
              "          const dataTable =\n",
              "            await google.colab.kernel.invokeFunction('convertToInteractive',\n",
              "                                                     [key], {});\n",
              "          if (!dataTable) return;\n",
              "\n",
              "          const docLinkHtml = 'Like what you see? Visit the ' +\n",
              "            '<a target=\"_blank\" href=https://colab.research.google.com/notebooks/data_table.ipynb>data table notebook</a>'\n",
              "            + ' to learn more about interactive tables.';\n",
              "          element.innerHTML = '';\n",
              "          dataTable['output_type'] = 'display_data';\n",
              "          await google.colab.output.renderOutput(dataTable, element);\n",
              "          const docLink = document.createElement('div');\n",
              "          docLink.innerHTML = docLinkHtml;\n",
              "          element.appendChild(docLink);\n",
              "        }\n",
              "      </script>\n",
              "    </div>\n",
              "  </div>\n",
              "  "
            ]
          },
          "metadata": {},
          "execution_count": 27
        }
      ],
      "source": [
        "df_Netostotales2"
      ]
    },
    {
      "cell_type": "code",
      "execution_count": 28,
      "metadata": {
        "id": "dA2f52mHiViA"
      },
      "outputs": [],
      "source": [
        "df_1['AÑO']=df_1['AÑO'].astype('str')"
      ]
    },
    {
      "cell_type": "code",
      "execution_count": 29,
      "metadata": {
        "id": "dxtIFR2YeHpz"
      },
      "outputs": [],
      "source": [
        "df_Netostotales3 = df_1.groupby('AÑO')[['VALOR_NETO_']].sum()"
      ]
    },
    {
      "cell_type": "code",
      "execution_count": 30,
      "metadata": {
        "colab": {
          "base_uri": "https://localhost:8080/",
          "height": 206
        },
        "id": "dl9qICXo1wXo",
        "outputId": "d41eb29e-b6a8-4d13-bb37-ab29096bb533"
      },
      "outputs": [
        {
          "output_type": "execute_result",
          "data": {
            "text/plain": [
              "      VALOR_NETO_\n",
              "AÑO              \n",
              "2019   7943914518\n",
              "2020  10108266848\n",
              "2021  12197450788\n",
              "2022   8119977152"
            ],
            "text/html": [
              "\n",
              "  <div id=\"df-5dea3bec-707f-42e4-8721-7da84ae306ee\">\n",
              "    <div class=\"colab-df-container\">\n",
              "      <div>\n",
              "<style scoped>\n",
              "    .dataframe tbody tr th:only-of-type {\n",
              "        vertical-align: middle;\n",
              "    }\n",
              "\n",
              "    .dataframe tbody tr th {\n",
              "        vertical-align: top;\n",
              "    }\n",
              "\n",
              "    .dataframe thead th {\n",
              "        text-align: right;\n",
              "    }\n",
              "</style>\n",
              "<table border=\"1\" class=\"dataframe\">\n",
              "  <thead>\n",
              "    <tr style=\"text-align: right;\">\n",
              "      <th></th>\n",
              "      <th>VALOR_NETO_</th>\n",
              "    </tr>\n",
              "    <tr>\n",
              "      <th>AÑO</th>\n",
              "      <th></th>\n",
              "    </tr>\n",
              "  </thead>\n",
              "  <tbody>\n",
              "    <tr>\n",
              "      <th>2019</th>\n",
              "      <td>7943914518</td>\n",
              "    </tr>\n",
              "    <tr>\n",
              "      <th>2020</th>\n",
              "      <td>10108266848</td>\n",
              "    </tr>\n",
              "    <tr>\n",
              "      <th>2021</th>\n",
              "      <td>12197450788</td>\n",
              "    </tr>\n",
              "    <tr>\n",
              "      <th>2022</th>\n",
              "      <td>8119977152</td>\n",
              "    </tr>\n",
              "  </tbody>\n",
              "</table>\n",
              "</div>\n",
              "      <button class=\"colab-df-convert\" onclick=\"convertToInteractive('df-5dea3bec-707f-42e4-8721-7da84ae306ee')\"\n",
              "              title=\"Convert this dataframe to an interactive table.\"\n",
              "              style=\"display:none;\">\n",
              "        \n",
              "  <svg xmlns=\"http://www.w3.org/2000/svg\" height=\"24px\"viewBox=\"0 0 24 24\"\n",
              "       width=\"24px\">\n",
              "    <path d=\"M0 0h24v24H0V0z\" fill=\"none\"/>\n",
              "    <path d=\"M18.56 5.44l.94 2.06.94-2.06 2.06-.94-2.06-.94-.94-2.06-.94 2.06-2.06.94zm-11 1L8.5 8.5l.94-2.06 2.06-.94-2.06-.94L8.5 2.5l-.94 2.06-2.06.94zm10 10l.94 2.06.94-2.06 2.06-.94-2.06-.94-.94-2.06-.94 2.06-2.06.94z\"/><path d=\"M17.41 7.96l-1.37-1.37c-.4-.4-.92-.59-1.43-.59-.52 0-1.04.2-1.43.59L10.3 9.45l-7.72 7.72c-.78.78-.78 2.05 0 2.83L4 21.41c.39.39.9.59 1.41.59.51 0 1.02-.2 1.41-.59l7.78-7.78 2.81-2.81c.8-.78.8-2.07 0-2.86zM5.41 20L4 18.59l7.72-7.72 1.47 1.35L5.41 20z\"/>\n",
              "  </svg>\n",
              "      </button>\n",
              "      \n",
              "  <style>\n",
              "    .colab-df-container {\n",
              "      display:flex;\n",
              "      flex-wrap:wrap;\n",
              "      gap: 12px;\n",
              "    }\n",
              "\n",
              "    .colab-df-convert {\n",
              "      background-color: #E8F0FE;\n",
              "      border: none;\n",
              "      border-radius: 50%;\n",
              "      cursor: pointer;\n",
              "      display: none;\n",
              "      fill: #1967D2;\n",
              "      height: 32px;\n",
              "      padding: 0 0 0 0;\n",
              "      width: 32px;\n",
              "    }\n",
              "\n",
              "    .colab-df-convert:hover {\n",
              "      background-color: #E2EBFA;\n",
              "      box-shadow: 0px 1px 2px rgba(60, 64, 67, 0.3), 0px 1px 3px 1px rgba(60, 64, 67, 0.15);\n",
              "      fill: #174EA6;\n",
              "    }\n",
              "\n",
              "    [theme=dark] .colab-df-convert {\n",
              "      background-color: #3B4455;\n",
              "      fill: #D2E3FC;\n",
              "    }\n",
              "\n",
              "    [theme=dark] .colab-df-convert:hover {\n",
              "      background-color: #434B5C;\n",
              "      box-shadow: 0px 1px 3px 1px rgba(0, 0, 0, 0.15);\n",
              "      filter: drop-shadow(0px 1px 2px rgba(0, 0, 0, 0.3));\n",
              "      fill: #FFFFFF;\n",
              "    }\n",
              "  </style>\n",
              "\n",
              "      <script>\n",
              "        const buttonEl =\n",
              "          document.querySelector('#df-5dea3bec-707f-42e4-8721-7da84ae306ee button.colab-df-convert');\n",
              "        buttonEl.style.display =\n",
              "          google.colab.kernel.accessAllowed ? 'block' : 'none';\n",
              "\n",
              "        async function convertToInteractive(key) {\n",
              "          const element = document.querySelector('#df-5dea3bec-707f-42e4-8721-7da84ae306ee');\n",
              "          const dataTable =\n",
              "            await google.colab.kernel.invokeFunction('convertToInteractive',\n",
              "                                                     [key], {});\n",
              "          if (!dataTable) return;\n",
              "\n",
              "          const docLinkHtml = 'Like what you see? Visit the ' +\n",
              "            '<a target=\"_blank\" href=https://colab.research.google.com/notebooks/data_table.ipynb>data table notebook</a>'\n",
              "            + ' to learn more about interactive tables.';\n",
              "          element.innerHTML = '';\n",
              "          dataTable['output_type'] = 'display_data';\n",
              "          await google.colab.output.renderOutput(dataTable, element);\n",
              "          const docLink = document.createElement('div');\n",
              "          docLink.innerHTML = docLinkHtml;\n",
              "          element.appendChild(docLink);\n",
              "        }\n",
              "      </script>\n",
              "    </div>\n",
              "  </div>\n",
              "  "
            ]
          },
          "metadata": {},
          "execution_count": 30
        }
      ],
      "source": [
        "df_Netostotales3"
      ]
    },
    {
      "cell_type": "markdown",
      "metadata": {
        "id": "Ah29ZuvEYarn"
      },
      "source": [
        "Para revisar las ventas"
      ]
    },
    {
      "cell_type": "code",
      "execution_count": 31,
      "metadata": {
        "colab": {
          "base_uri": "https://localhost:8080/"
        },
        "id": "tJZ9bekLlZkp",
        "outputId": "b1b0f4e4-5af1-48bd-a1fe-c483b930342a"
      },
      "outputs": [
        {
          "output_type": "stream",
          "name": "stderr",
          "text": [
            "/usr/local/lib/python3.7/dist-packages/ipykernel_launcher.py:1: SettingWithCopyWarning: \n",
            "A value is trying to be set on a copy of a slice from a DataFrame.\n",
            "Try using .loc[row_indexer,col_indexer] = value instead\n",
            "\n",
            "See the caveats in the documentation: https://pandas.pydata.org/pandas-docs/stable/user_guide/indexing.html#returning-a-view-versus-a-copy\n",
            "  \"\"\"Entry point for launching an IPython kernel.\n"
          ]
        }
      ],
      "source": [
        "df_Vtaanocompleto['AÑO']=df_Vtaanocompleto['AÑO'].astype('str')"
      ]
    },
    {
      "cell_type": "code",
      "execution_count": 32,
      "metadata": {
        "id": "3bv0JO0jioT0"
      },
      "outputs": [],
      "source": [
        "df_VtaTotal = df_Vtaanocompleto.groupby('AÑO')[['VALOR_NETO_']].sum()"
      ]
    },
    {
      "cell_type": "code",
      "execution_count": 33,
      "metadata": {
        "id": "SGzJPr33ioK0"
      },
      "outputs": [],
      "source": [
        "ventas_pandemia = df_VtaTotal.index"
      ]
    },
    {
      "cell_type": "code",
      "execution_count": 34,
      "metadata": {
        "id": "zzOTAtvIj-9X"
      },
      "outputs": [],
      "source": [
        "Total_ventas_pandemia = df_VtaTotal['VALOR_NETO_']"
      ]
    },
    {
      "cell_type": "code",
      "execution_count": 34,
      "metadata": {
        "id": "kQ7SCsTF_bRC"
      },
      "outputs": [],
      "source": []
    },
    {
      "cell_type": "code",
      "execution_count": 35,
      "metadata": {
        "id": "w9_Mxgo7vnj0"
      },
      "outputs": [],
      "source": [
        "familiatotal = df_1.groupby('FAMILIA_2')[['VALOR_NETO_']].sum()"
      ]
    },
    {
      "cell_type": "code",
      "execution_count": 36,
      "metadata": {
        "id": "7uZixzQGvnfh"
      },
      "outputs": [],
      "source": [
        "ventas_famili = familiatotal.index"
      ]
    },
    {
      "cell_type": "code",
      "execution_count": 37,
      "metadata": {
        "id": "G5SnDTN2oLRL"
      },
      "outputs": [],
      "source": [
        "Total_ventas_familia = familiatotal['VALOR_NETO_']"
      ]
    },
    {
      "cell_type": "code",
      "execution_count": 37,
      "metadata": {
        "id": "KOmKL9ZayZ15"
      },
      "outputs": [],
      "source": []
    },
    {
      "cell_type": "code",
      "execution_count": 38,
      "metadata": {
        "id": "IifbQRtw0KPD"
      },
      "outputs": [],
      "source": [
        "periodomeses = df_1[df_1['MES']<=9].reset_index(drop=True)"
      ]
    },
    {
      "cell_type": "code",
      "execution_count": 39,
      "metadata": {
        "id": "GzOemn_T0KMh"
      },
      "outputs": [],
      "source": [
        "df_meses = periodomeses.groupby('AÑO')[['VALOR_NETO_']].sum()"
      ]
    },
    {
      "cell_type": "code",
      "execution_count": 40,
      "metadata": {
        "id": "gMYIR_Ol0KJk"
      },
      "outputs": [],
      "source": [
        "ventas_meses = df_meses.index"
      ]
    },
    {
      "cell_type": "code",
      "execution_count": 41,
      "metadata": {
        "id": "kM8YUCSl0KGw"
      },
      "outputs": [],
      "source": [
        "Total_ventas_meses = df_meses['VALOR_NETO_']"
      ]
    },
    {
      "cell_type": "code",
      "execution_count": 42,
      "metadata": {
        "colab": {
          "base_uri": "https://localhost:8080/"
        },
        "id": "fltfUqt_Q3Wf",
        "outputId": "85427874-c1ef-44bc-e2e0-966d9dbf281f"
      },
      "outputs": [
        {
          "output_type": "execute_result",
          "data": {
            "text/plain": [
              "Index(['AÑO', 'MES', 'LOCAL', 'COD_DTE', 'TIPO_DE_DCTO.', 'ESTADO', 'NºDOCTO',\n",
              "       '_FECHA', 'FECHA_VCTO', 'RUT', 'CLIENTE', 'NOMBRE_FANTASIA',\n",
              "       'DIRECCION', 'COMUNA', 'CIUDAD', 'GIRO', 'TELEFONO', 'CELULAR',\n",
              "       'FORMA_DE_PAGO', 'LISTA_PRECIO', 'VENDEDOR', 'COD_LOCAL_DESPACHO',\n",
              "       'NOMBRE_LOCAL', 'DIRECC_LOCAL_DESP', 'COMUNA_LOCAL_DESPACHO',\n",
              "       'CIUDAD_LOCAL_DESP', 'NOMBRE_TRANSPORTE', 'NOMBRE_CHOFER', 'VEHICULO',\n",
              "       'Nº_OC', 'Nº_GD', 'FAMILIA_1', 'FAMILIA_2', 'FAMILIA_3', 'COD.PRODUCTO',\n",
              "       'PRODUCTO', 'TEXTO', 'UMA', 'CANT.UMA', 'UNI.MED', 'TALLA',\n",
              "       'LINEA_EXENTA', 'CANTIDAD', 'PRECIO_UNITARIO', 'PRECIO_COSTO',\n",
              "       'TOTAl_LINEA', '%_DESCUENTO_LINEA', 'TOTAL_DESCUENTO_LINEA',\n",
              "       'VALOR_NETO_', 'VALOR_EXENTO', '_VALOR_IVA', 'VALOR_TOTAL',\n",
              "       'REGISTRO_FISCAL5', 'RUT_SUBDIVISION', 'PROCEDENCIA', 'TALLA/PAIS',\n",
              "       'COLOR/MARCA', 'TIPO_REF_1', 'NUM_REF_1', 'FECHA_REF_1', '_RAZON_REF_1',\n",
              "       'MUEVE_STOCK', 'PRECIO_UNIT.BRUTO', 'PRECIO_UNIT.NETO',\n",
              "       'MONTO_DESCTO_GLOBAL', 'TOTAL_LINEA_NETO'],\n",
              "      dtype='object')"
            ]
          },
          "metadata": {},
          "execution_count": 42
        }
      ],
      "source": [
        "df.columns"
      ]
    },
    {
      "cell_type": "code",
      "execution_count": 43,
      "metadata": {
        "id": "aEktFFG4TWnJ"
      },
      "outputs": [],
      "source": [
        "df_cloro=df_1[df_1['COD.PRODUCTO']=='PT010526'].reset_index(drop=True)"
      ]
    },
    {
      "cell_type": "code",
      "execution_count": 44,
      "metadata": {
        "id": "wSutVOSzTWfG"
      },
      "outputs": [],
      "source": [
        "df_cloro_S = df_cloro[df_cloro['MES']<=9].reset_index(drop=True)"
      ]
    },
    {
      "cell_type": "code",
      "execution_count": 45,
      "metadata": {
        "id": "czIdRhRl_-ww"
      },
      "outputs": [],
      "source": [
        "df_cloro_2019_S = df_cloro_S[df_cloro_S['AÑO']=='2019'].reset_index(drop=True)\n",
        "df_cloro_2020_S = df_cloro_S[df_cloro_S['AÑO']=='2020'].reset_index(drop=True)\n",
        "df_cloro_2021_S = df_cloro_S[df_cloro_S['AÑO']=='2021'].reset_index(drop=True)\n",
        "df_cloro_2022_S = df_cloro_S[df_cloro_S['AÑO']=='2022'].reset_index(drop=True)"
      ]
    },
    {
      "cell_type": "code",
      "execution_count": 46,
      "metadata": {
        "id": "d54zGXWATw1J"
      },
      "outputs": [],
      "source": [
        "df_cloro_2019_S.index = df_cloro_2019_S['AÑO']\n",
        "df_cloro_2019_S = df_cloro_2019_S.drop('AÑO', axis='columns')"
      ]
    },
    {
      "cell_type": "code",
      "execution_count": 47,
      "metadata": {
        "id": "jOuEIeyOTwyS"
      },
      "outputs": [],
      "source": [
        "df_cloro_2020_S.index = df_cloro_2020_S['AÑO']\n",
        "df_cloro_2020_S = df_cloro_2020_S.drop('AÑO', axis='columns')"
      ]
    },
    {
      "cell_type": "code",
      "execution_count": 48,
      "metadata": {
        "id": "IJnG7QRWT4-J"
      },
      "outputs": [],
      "source": [
        "df_cloro_2021_S.index = df_cloro_2021_S['AÑO']\n",
        "df_cloro_2021_S = df_cloro_2021_S.drop('AÑO', axis='columns')"
      ]
    },
    {
      "cell_type": "code",
      "execution_count": 49,
      "metadata": {
        "id": "eFGmmGIfT4zx"
      },
      "outputs": [],
      "source": [
        "df_cloro_2022_S.index = df_cloro_2022_S['AÑO']\n",
        "df_cloro_2022_S = df_cloro_2022_S.drop('AÑO', axis='columns')"
      ]
    },
    {
      "cell_type": "code",
      "execution_count": 50,
      "metadata": {
        "id": "zC_9iaP4TwvD"
      },
      "outputs": [],
      "source": [
        "df_VtaTotal2019 = df_cloro_2019_S.groupby('MES')[['VALOR_NETO_']].sum()"
      ]
    },
    {
      "cell_type": "code",
      "execution_count": 51,
      "metadata": {
        "id": "TLxAYDaOTwsA"
      },
      "outputs": [],
      "source": [
        "df_VtaTotal2020 = df_cloro_2020_S.groupby('MES')[['VALOR_NETO_']].sum()"
      ]
    },
    {
      "cell_type": "code",
      "execution_count": 52,
      "metadata": {
        "id": "MSNI5XYcVEOz"
      },
      "outputs": [],
      "source": [
        "df_VtaTotal2021 = df_cloro_2021_S.groupby('MES')[['VALOR_NETO_']].sum()"
      ]
    },
    {
      "cell_type": "code",
      "execution_count": 53,
      "metadata": {
        "id": "GY4VhXDcVEKJ"
      },
      "outputs": [],
      "source": [
        "df_VtaTotal2022 = df_cloro_2022_S.groupby('MES')[['VALOR_NETO_']].sum()"
      ]
    },
    {
      "cell_type": "code",
      "execution_count": 54,
      "metadata": {
        "id": "ibtTjSttAOkO"
      },
      "outputs": [],
      "source": [
        "df_aceite=df_1[df_1['COD.PRODUCTO']=='PT010402'].reset_index(drop=True)"
      ]
    },
    {
      "cell_type": "code",
      "execution_count": 55,
      "metadata": {
        "id": "zGEnZKU5AOkP"
      },
      "outputs": [],
      "source": [
        "df_aceite = df_aceite[df_aceite['MES']<=9].reset_index(drop=True)"
      ]
    },
    {
      "cell_type": "code",
      "execution_count": 56,
      "metadata": {
        "id": "iYqI4-90AOkR"
      },
      "outputs": [],
      "source": [
        "df_aceite_2019_S = df_aceite[df_aceite['AÑO']=='2019'].reset_index(drop=True)\n",
        "df_aceite_2020_S = df_aceite[df_aceite['AÑO']=='2020'].reset_index(drop=True)\n",
        "df_aceite_2021_S = df_aceite[df_aceite['AÑO']=='2021'].reset_index(drop=True)\n",
        "df_aceite_2022_S = df_aceite[df_aceite['AÑO']=='2022'].reset_index(drop=True)"
      ]
    },
    {
      "cell_type": "code",
      "execution_count": 57,
      "metadata": {
        "id": "6BdqQDudAOkS"
      },
      "outputs": [],
      "source": [
        "df_aceite_2019_S.index = df_aceite_2019_S['AÑO']\n",
        "df_aceite_2019_S = df_aceite_2019_S.drop('AÑO', axis='columns')"
      ]
    },
    {
      "cell_type": "code",
      "execution_count": 58,
      "metadata": {
        "id": "1uCgBUCKAOkT"
      },
      "outputs": [],
      "source": [
        "df_aceite_2020_S.index = df_aceite_2020_S['AÑO']\n",
        "df_aceite_2020_S = df_aceite_2020_S.drop('AÑO', axis='columns')"
      ]
    },
    {
      "cell_type": "code",
      "execution_count": 59,
      "metadata": {
        "id": "ZayrM0fUAOkU"
      },
      "outputs": [],
      "source": [
        "df_aceite_2021_S.index = df_aceite_2021_S['AÑO']\n",
        "df_aceite_2021_S = df_aceite_2021_S.drop('AÑO', axis='columns')"
      ]
    },
    {
      "cell_type": "code",
      "execution_count": 60,
      "metadata": {
        "id": "DsHmEMi7AOkV"
      },
      "outputs": [],
      "source": [
        "df_aceite_2022_S.index = df_aceite_2022_S['AÑO']\n",
        "df_aceite_2022_S = df_aceite_2022_S.drop('AÑO', axis='columns')"
      ]
    },
    {
      "cell_type": "code",
      "execution_count": 61,
      "metadata": {
        "id": "Xpl7bOAjAOkW"
      },
      "outputs": [],
      "source": [
        "df_totalaceite2019 = df_aceite_2019_S.groupby('MES')[['VALOR_NETO_']].sum()"
      ]
    },
    {
      "cell_type": "code",
      "execution_count": 62,
      "metadata": {
        "id": "zqvQXN4QAOkX"
      },
      "outputs": [],
      "source": [
        "df_totalaceite2020 = df_aceite_2020_S.groupby('MES')[['VALOR_NETO_']].sum()"
      ]
    },
    {
      "cell_type": "code",
      "execution_count": 63,
      "metadata": {
        "id": "K50qChaEAOkX"
      },
      "outputs": [],
      "source": [
        "df_totalaceite2021 = df_aceite_2021_S.groupby('MES')[['VALOR_NETO_']].sum()"
      ]
    },
    {
      "cell_type": "code",
      "execution_count": 64,
      "metadata": {
        "id": "yUSQlZY3AOkX"
      },
      "outputs": [],
      "source": [
        "df_totalaceite2022 = df_aceite_2022_S.groupby('MES')[['VALOR_NETO_']].sum()"
      ]
    },
    {
      "cell_type": "code",
      "execution_count": 64,
      "metadata": {
        "id": "cnBiQbP3dxFq"
      },
      "outputs": [],
      "source": []
    },
    {
      "cell_type": "code",
      "execution_count": 64,
      "metadata": {
        "id": "fLZdX9EtIYLM"
      },
      "outputs": [],
      "source": []
    },
    {
      "cell_type": "code",
      "execution_count": 64,
      "metadata": {
        "id": "2weI28k9LI4U"
      },
      "outputs": [],
      "source": []
    },
    {
      "cell_type": "code",
      "execution_count": 65,
      "metadata": {
        "id": "l4zVOgvfLjok"
      },
      "outputs": [],
      "source": [
        "df_Bidon = df_1"
      ]
    },
    {
      "cell_type": "code",
      "execution_count": 66,
      "metadata": {
        "id": "rOiSNirYebvq"
      },
      "outputs": [],
      "source": [
        "relaciones = df_Bidon"
      ]
    },
    {
      "cell_type": "code",
      "execution_count": 67,
      "metadata": {
        "id": "wnAUi_Ou6f1k"
      },
      "outputs": [],
      "source": [
        "relaciones = relaciones.drop(relaciones[relaciones['FAMILIA_2']==('USO INTERNO SISTEMA')].index)\n",
        "relaciones = relaciones.drop(relaciones[relaciones['FAMILIA_2']==('INSUMOS')].index)\n",
        "relaciones = relaciones.drop(relaciones[relaciones['FAMILIA_2']==('ETIQUETAS')].index)\n",
        "relaciones = relaciones.drop(relaciones[relaciones['FAMILIA_2']==('DOSIFICADOR')].index)\n",
        "relaciones = relaciones.drop(relaciones[relaciones['FAMILIA_2']==('ESTUCHE')].index)\n",
        "relaciones = relaciones.drop(relaciones[relaciones['FAMILIA_2']==('LLAVE APRIETE')].index)\n",
        "relaciones = relaciones.drop(relaciones[relaciones['FAMILIA_2']==('USO INTERNO DE SISTEMA')].index)\n",
        "relaciones = relaciones.drop(relaciones[relaciones['FAMILIA_2']==('TAPA')].index)"
      ]
    },
    {
      "cell_type": "code",
      "execution_count": 68,
      "metadata": {
        "id": "l19iVSep7HPh"
      },
      "outputs": [],
      "source": [
        "relaciones = relaciones.drop(relaciones[relaciones['CANTIDAD']<=0].index)\n",
        "relaciones = relaciones.drop(relaciones[relaciones['PRECIO_UNITARIO']<=0].index)"
      ]
    },
    {
      "cell_type": "code",
      "execution_count": 69,
      "metadata": {
        "colab": {
          "base_uri": "https://localhost:8080/",
          "height": 404
        },
        "id": "Xjjww2ry3kEi",
        "outputId": "2f7e8b55-bef0-44ec-8ffb-7884b90f7f40"
      },
      "outputs": [
        {
          "output_type": "execute_result",
          "data": {
            "text/plain": [
              "     AÑO  MES  LOCAL  COD_DTE        TIPO_DE_DCTO.  ESTADO  NºDOCTO  \\\n",
              "32  2019    1      1       33  FACTURA ELECTRONICA  ACTIVO    21267   \n",
              "37  2019    1      1       33  FACTURA ELECTRONICA  ACTIVO    21269   \n",
              "39  2019    1      1       33  FACTURA ELECTRONICA  ACTIVO    21270   \n",
              "47  2019    1      1       33  FACTURA ELECTRONICA  ACTIVO    21274   \n",
              "49  2019    1      1       33  FACTURA ELECTRONICA  ACTIVO    21275   \n",
              "\n",
              "       _FECHA FECHA_VCTO         RUT  ... PRECIO_UNIT.BRUTO PRECIO_UNIT.NETO  \\\n",
              "32 2019-01-02 2019-01-02  76586765-7  ...                 0        -0.054386   \n",
              "37 2019-01-02 2019-01-02  19756046-0  ...                 0        -0.054386   \n",
              "39 2019-01-02 2019-02-16  96998510-1  ...                 0        -0.054386   \n",
              "47 2019-01-02 2019-01-02  76527969-0  ...                 0        -0.054386   \n",
              "49 2019-01-02 2019-02-16  78568050-2  ...                 0        -0.054386   \n",
              "\n",
              "   MONTO_DESCTO_GLOBAL TOTAL_LINEA_NETO INSUMOS PRODUCTOS TERMINADOS KILOS  \\\n",
              "32                   0                0     NaN                  NaN   NaN   \n",
              "37                   0                0     NaN                  NaN   NaN   \n",
              "39                   0                0     NaN                  NaN   NaN   \n",
              "47                   0                0     NaN                  NaN   NaN   \n",
              "49                   0                0     NaN                  NaN   NaN   \n",
              "\n",
              "   UNIDAD 0-  0-0  \n",
              "32    NaN NaN NaN  \n",
              "37    NaN NaN NaN  \n",
              "39    NaN NaN NaN  \n",
              "47    NaN NaN NaN  \n",
              "49    NaN NaN NaN  \n",
              "\n",
              "[5 rows x 69 columns]"
            ],
            "text/html": [
              "\n",
              "  <div id=\"df-9fc28c3c-bad9-44a8-b9d4-78778bfc8dfe\">\n",
              "    <div class=\"colab-df-container\">\n",
              "      <div>\n",
              "<style scoped>\n",
              "    .dataframe tbody tr th:only-of-type {\n",
              "        vertical-align: middle;\n",
              "    }\n",
              "\n",
              "    .dataframe tbody tr th {\n",
              "        vertical-align: top;\n",
              "    }\n",
              "\n",
              "    .dataframe thead th {\n",
              "        text-align: right;\n",
              "    }\n",
              "</style>\n",
              "<table border=\"1\" class=\"dataframe\">\n",
              "  <thead>\n",
              "    <tr style=\"text-align: right;\">\n",
              "      <th></th>\n",
              "      <th>AÑO</th>\n",
              "      <th>MES</th>\n",
              "      <th>LOCAL</th>\n",
              "      <th>COD_DTE</th>\n",
              "      <th>TIPO_DE_DCTO.</th>\n",
              "      <th>ESTADO</th>\n",
              "      <th>NºDOCTO</th>\n",
              "      <th>_FECHA</th>\n",
              "      <th>FECHA_VCTO</th>\n",
              "      <th>RUT</th>\n",
              "      <th>...</th>\n",
              "      <th>PRECIO_UNIT.BRUTO</th>\n",
              "      <th>PRECIO_UNIT.NETO</th>\n",
              "      <th>MONTO_DESCTO_GLOBAL</th>\n",
              "      <th>TOTAL_LINEA_NETO</th>\n",
              "      <th>INSUMOS</th>\n",
              "      <th>PRODUCTOS TERMINADOS</th>\n",
              "      <th>KILOS</th>\n",
              "      <th>UNIDAD</th>\n",
              "      <th>0-</th>\n",
              "      <th>0-0</th>\n",
              "    </tr>\n",
              "  </thead>\n",
              "  <tbody>\n",
              "    <tr>\n",
              "      <th>32</th>\n",
              "      <td>2019</td>\n",
              "      <td>1</td>\n",
              "      <td>1</td>\n",
              "      <td>33</td>\n",
              "      <td>FACTURA ELECTRONICA</td>\n",
              "      <td>ACTIVO</td>\n",
              "      <td>21267</td>\n",
              "      <td>2019-01-02</td>\n",
              "      <td>2019-01-02</td>\n",
              "      <td>76586765-7</td>\n",
              "      <td>...</td>\n",
              "      <td>0</td>\n",
              "      <td>-0.054386</td>\n",
              "      <td>0</td>\n",
              "      <td>0</td>\n",
              "      <td>NaN</td>\n",
              "      <td>NaN</td>\n",
              "      <td>NaN</td>\n",
              "      <td>NaN</td>\n",
              "      <td>NaN</td>\n",
              "      <td>NaN</td>\n",
              "    </tr>\n",
              "    <tr>\n",
              "      <th>37</th>\n",
              "      <td>2019</td>\n",
              "      <td>1</td>\n",
              "      <td>1</td>\n",
              "      <td>33</td>\n",
              "      <td>FACTURA ELECTRONICA</td>\n",
              "      <td>ACTIVO</td>\n",
              "      <td>21269</td>\n",
              "      <td>2019-01-02</td>\n",
              "      <td>2019-01-02</td>\n",
              "      <td>19756046-0</td>\n",
              "      <td>...</td>\n",
              "      <td>0</td>\n",
              "      <td>-0.054386</td>\n",
              "      <td>0</td>\n",
              "      <td>0</td>\n",
              "      <td>NaN</td>\n",
              "      <td>NaN</td>\n",
              "      <td>NaN</td>\n",
              "      <td>NaN</td>\n",
              "      <td>NaN</td>\n",
              "      <td>NaN</td>\n",
              "    </tr>\n",
              "    <tr>\n",
              "      <th>39</th>\n",
              "      <td>2019</td>\n",
              "      <td>1</td>\n",
              "      <td>1</td>\n",
              "      <td>33</td>\n",
              "      <td>FACTURA ELECTRONICA</td>\n",
              "      <td>ACTIVO</td>\n",
              "      <td>21270</td>\n",
              "      <td>2019-01-02</td>\n",
              "      <td>2019-02-16</td>\n",
              "      <td>96998510-1</td>\n",
              "      <td>...</td>\n",
              "      <td>0</td>\n",
              "      <td>-0.054386</td>\n",
              "      <td>0</td>\n",
              "      <td>0</td>\n",
              "      <td>NaN</td>\n",
              "      <td>NaN</td>\n",
              "      <td>NaN</td>\n",
              "      <td>NaN</td>\n",
              "      <td>NaN</td>\n",
              "      <td>NaN</td>\n",
              "    </tr>\n",
              "    <tr>\n",
              "      <th>47</th>\n",
              "      <td>2019</td>\n",
              "      <td>1</td>\n",
              "      <td>1</td>\n",
              "      <td>33</td>\n",
              "      <td>FACTURA ELECTRONICA</td>\n",
              "      <td>ACTIVO</td>\n",
              "      <td>21274</td>\n",
              "      <td>2019-01-02</td>\n",
              "      <td>2019-01-02</td>\n",
              "      <td>76527969-0</td>\n",
              "      <td>...</td>\n",
              "      <td>0</td>\n",
              "      <td>-0.054386</td>\n",
              "      <td>0</td>\n",
              "      <td>0</td>\n",
              "      <td>NaN</td>\n",
              "      <td>NaN</td>\n",
              "      <td>NaN</td>\n",
              "      <td>NaN</td>\n",
              "      <td>NaN</td>\n",
              "      <td>NaN</td>\n",
              "    </tr>\n",
              "    <tr>\n",
              "      <th>49</th>\n",
              "      <td>2019</td>\n",
              "      <td>1</td>\n",
              "      <td>1</td>\n",
              "      <td>33</td>\n",
              "      <td>FACTURA ELECTRONICA</td>\n",
              "      <td>ACTIVO</td>\n",
              "      <td>21275</td>\n",
              "      <td>2019-01-02</td>\n",
              "      <td>2019-02-16</td>\n",
              "      <td>78568050-2</td>\n",
              "      <td>...</td>\n",
              "      <td>0</td>\n",
              "      <td>-0.054386</td>\n",
              "      <td>0</td>\n",
              "      <td>0</td>\n",
              "      <td>NaN</td>\n",
              "      <td>NaN</td>\n",
              "      <td>NaN</td>\n",
              "      <td>NaN</td>\n",
              "      <td>NaN</td>\n",
              "      <td>NaN</td>\n",
              "    </tr>\n",
              "  </tbody>\n",
              "</table>\n",
              "<p>5 rows × 69 columns</p>\n",
              "</div>\n",
              "      <button class=\"colab-df-convert\" onclick=\"convertToInteractive('df-9fc28c3c-bad9-44a8-b9d4-78778bfc8dfe')\"\n",
              "              title=\"Convert this dataframe to an interactive table.\"\n",
              "              style=\"display:none;\">\n",
              "        \n",
              "  <svg xmlns=\"http://www.w3.org/2000/svg\" height=\"24px\"viewBox=\"0 0 24 24\"\n",
              "       width=\"24px\">\n",
              "    <path d=\"M0 0h24v24H0V0z\" fill=\"none\"/>\n",
              "    <path d=\"M18.56 5.44l.94 2.06.94-2.06 2.06-.94-2.06-.94-.94-2.06-.94 2.06-2.06.94zm-11 1L8.5 8.5l.94-2.06 2.06-.94-2.06-.94L8.5 2.5l-.94 2.06-2.06.94zm10 10l.94 2.06.94-2.06 2.06-.94-2.06-.94-.94-2.06-.94 2.06-2.06.94z\"/><path d=\"M17.41 7.96l-1.37-1.37c-.4-.4-.92-.59-1.43-.59-.52 0-1.04.2-1.43.59L10.3 9.45l-7.72 7.72c-.78.78-.78 2.05 0 2.83L4 21.41c.39.39.9.59 1.41.59.51 0 1.02-.2 1.41-.59l7.78-7.78 2.81-2.81c.8-.78.8-2.07 0-2.86zM5.41 20L4 18.59l7.72-7.72 1.47 1.35L5.41 20z\"/>\n",
              "  </svg>\n",
              "      </button>\n",
              "      \n",
              "  <style>\n",
              "    .colab-df-container {\n",
              "      display:flex;\n",
              "      flex-wrap:wrap;\n",
              "      gap: 12px;\n",
              "    }\n",
              "\n",
              "    .colab-df-convert {\n",
              "      background-color: #E8F0FE;\n",
              "      border: none;\n",
              "      border-radius: 50%;\n",
              "      cursor: pointer;\n",
              "      display: none;\n",
              "      fill: #1967D2;\n",
              "      height: 32px;\n",
              "      padding: 0 0 0 0;\n",
              "      width: 32px;\n",
              "    }\n",
              "\n",
              "    .colab-df-convert:hover {\n",
              "      background-color: #E2EBFA;\n",
              "      box-shadow: 0px 1px 2px rgba(60, 64, 67, 0.3), 0px 1px 3px 1px rgba(60, 64, 67, 0.15);\n",
              "      fill: #174EA6;\n",
              "    }\n",
              "\n",
              "    [theme=dark] .colab-df-convert {\n",
              "      background-color: #3B4455;\n",
              "      fill: #D2E3FC;\n",
              "    }\n",
              "\n",
              "    [theme=dark] .colab-df-convert:hover {\n",
              "      background-color: #434B5C;\n",
              "      box-shadow: 0px 1px 3px 1px rgba(0, 0, 0, 0.15);\n",
              "      filter: drop-shadow(0px 1px 2px rgba(0, 0, 0, 0.3));\n",
              "      fill: #FFFFFF;\n",
              "    }\n",
              "  </style>\n",
              "\n",
              "      <script>\n",
              "        const buttonEl =\n",
              "          document.querySelector('#df-9fc28c3c-bad9-44a8-b9d4-78778bfc8dfe button.colab-df-convert');\n",
              "        buttonEl.style.display =\n",
              "          google.colab.kernel.accessAllowed ? 'block' : 'none';\n",
              "\n",
              "        async function convertToInteractive(key) {\n",
              "          const element = document.querySelector('#df-9fc28c3c-bad9-44a8-b9d4-78778bfc8dfe');\n",
              "          const dataTable =\n",
              "            await google.colab.kernel.invokeFunction('convertToInteractive',\n",
              "                                                     [key], {});\n",
              "          if (!dataTable) return;\n",
              "\n",
              "          const docLinkHtml = 'Like what you see? Visit the ' +\n",
              "            '<a target=\"_blank\" href=https://colab.research.google.com/notebooks/data_table.ipynb>data table notebook</a>'\n",
              "            + ' to learn more about interactive tables.';\n",
              "          element.innerHTML = '';\n",
              "          dataTable['output_type'] = 'display_data';\n",
              "          await google.colab.output.renderOutput(dataTable, element);\n",
              "          const docLink = document.createElement('div');\n",
              "          docLink.innerHTML = docLinkHtml;\n",
              "          element.appendChild(docLink);\n",
              "        }\n",
              "      </script>\n",
              "    </div>\n",
              "  </div>\n",
              "  "
            ]
          },
          "metadata": {},
          "execution_count": 69
        }
      ],
      "source": [
        "relaciones.head()"
      ]
    },
    {
      "cell_type": "code",
      "execution_count": 69,
      "metadata": {
        "id": "Hdrg3BrydcXp"
      },
      "outputs": [],
      "source": []
    },
    {
      "cell_type": "code",
      "execution_count": 69,
      "metadata": {
        "id": "z9vks7VMdcUH"
      },
      "outputs": [],
      "source": []
    },
    {
      "cell_type": "code",
      "execution_count": 69,
      "metadata": {
        "id": "Vh5Q0uxSlbLr"
      },
      "outputs": [],
      "source": []
    },
    {
      "cell_type": "markdown",
      "metadata": {
        "id": "eiXQj5W0pEWD"
      },
      "source": [
        "## C) PRESENTACION STORYTELLING\n",
        "\n",
        "El objetivo de este proyecto es entregar un modelo con los insighs necesarios para la toma de decisiones en cuanto al los patrones y tareas a realizar por la empresa en el escenario actual, como decidir de seguir potenciando ciertos productos o diversificar la oferta, potenciar otros productos que se dejaron de lado durante el peak de la pandemia, revisar el estado de los clientes, ver que clientes se pueden mejorar, recuperar, y/o dejar. Todo esto con el fin de poder mantener y mejorar el nivel de ventas alcanzado los últimos años, en este escecnario adverso. Dicho esto, las preguntas a responder serian: ¿debe la empresa esperar recuperar el nivel de venta de estos productos estrellas durante la pandemia? ¿en el escenario actual, que productos se deben potenciar? Del movimiento de clientes ¿hay clientes que se pueden recuperar, o clientes que se puede mejorar las ventas?¿está preparada la empresa para el escenario económico actual? En los primeros análisis se pudo ver que efectivamente la premisa de la empresa de que existe una baja en las ventas, globales y se requiere generar un plan alternativo para conllevar mejor la situación actual."
      ]
    },
    {
      "cell_type": "markdown",
      "metadata": {
        "id": "9xMlXN4mb0lC"
      },
      "source": [
        " **1.\n",
        "Análisis comportamiento general del negocio periodo 2019 a 2021**"
      ]
    },
    {
      "cell_type": "markdown",
      "metadata": {
        "id": "QE6T2tuwcEaz"
      },
      "source": [
        "\n",
        "\n",
        "*   Primero analizamos los datos de los periodos ya concluidos que corresponden a 2019 pre pandemia, 2020 inicio de la pandemia y 2021 peak de esta agregando el incicio de la vuelta a la normalidad en las sociedades\n",
        "\n",
        "\n"
      ]
    },
    {
      "cell_type": "code",
      "execution_count": 70,
      "metadata": {
        "colab": {
          "base_uri": "https://localhost:8080/",
          "height": 312
        },
        "id": "DBLgttvvBgFT",
        "outputId": "e96604bb-0be9-4357-823f-e7a7a3637ebe"
      },
      "outputs": [
        {
          "output_type": "execute_result",
          "data": {
            "text/plain": [
              "Text(0.5, 0, 'Año')"
            ]
          },
          "metadata": {},
          "execution_count": 70
        },
        {
          "output_type": "display_data",
          "data": {
            "text/plain": [
              "<Figure size 576x288 with 1 Axes>"
            ],
            "image/png": "[encoded data removed]"
          },
          "metadata": {
            "needs_background": "light"
          }
        }
      ],
      "source": [
        "fig, ax = plt.subplots(figsize=(8,4))\n",
        "ax.bar(ventas_pandemia,Total_ventas_pandemia)\n",
        "ax.set_title('TOTAL VENTAS 2019 A 2021')\n",
        "ax.set_ylabel('monto facturado')\n",
        "ax.set_xlabel('Año')"
      ]
    },
    {
      "cell_type": "markdown",
      "metadata": {
        "id": "TjThoZxAoOso"
      },
      "source": [
        "En este gráfico podemos apreciar de forma clara y sencilla que efectivamente las ventas totales aumentaron considerablemente para el año 2021"
      ]
    },
    {
      "cell_type": "markdown",
      "metadata": {
        "id": "AYAmsxobt0Y8"
      },
      "source": [
        "Si analizamos las ventas del periodo, por familia de los articulos vendidos* donde se aprecia claramente que la venta del articulo Bidon es la que tiene la mayor cantidad de articulos vendidos en el perido analizado.\n",
        "\n",
        "\n",
        "*se excluyo del análisis las tapas que si bien es un dato alto, la venta de estas va relacionada a la venta de los bidones o botellas "
      ]
    },
    {
      "cell_type": "code",
      "execution_count": 71,
      "metadata": {
        "colab": {
          "base_uri": "https://localhost:8080/",
          "height": 1000
        },
        "id": "FktG_mfqqqyx",
        "outputId": "5f786031-13fc-4f21-facd-5b0542c0e4ca"
      },
      "outputs": [
        {
          "output_type": "execute_result",
          "data": {
            "text/plain": [
              "([<matplotlib.patches.Wedge at 0x7ff73b2dd390>,\n",
              "  <matplotlib.patches.Wedge at 0x7ff73b2dd7d0>,\n",
              "  <matplotlib.patches.Wedge at 0x7ff73b2dddd0>,\n",
              "  <matplotlib.patches.Wedge at 0x7ff73b2d93d0>,\n",
              "  <matplotlib.patches.Wedge at 0x7ff73b2d9c50>,\n",
              "  <matplotlib.patches.Wedge at 0x7ff73b2d32d0>,\n",
              "  <matplotlib.patches.Wedge at 0x7ff73b2d3690>,\n",
              "  <matplotlib.patches.Wedge at 0x7ff73b2d3c50>,\n",
              "  <matplotlib.patches.Wedge at 0x7ff73b2d9990>,\n",
              "  <matplotlib.patches.Wedge at 0x7ff73b2d9fd0>],\n",
              " [Text(-0.7929725616243368, 0.7623611457248707, 'BIDON'),\n",
              "  Text(0.32308314631553947, -1.0514833715122898, 'BOTELLA'),\n",
              "  Text(0.5825573107038822, -0.9330739411994425, 'DOSIFICADOR'),\n",
              "  Text(0.5845876401738784, -0.9318032469121023, 'ESTUCHE'),\n",
              "  Text(0.5860997327257574, -0.930852890256455, 'ETIQUETAS'),\n",
              "  Text(0.6011505908642499, -0.9212046282469293, 'FRASCO'),\n",
              "  Text(0.6225639458330197, -0.9068705163080455, 'INSUMOS'),\n",
              "  Text(0.6300580766138708, -0.9016799987210706, 'LLAVE APRIETE'),\n",
              "  Text(0.6721137899837594, -0.8707830116129202, 'POTE'),\n",
              "  Text(0.9983873103986329, -0.46176052065435813, 'TAPA')])"
            ]
          },
          "metadata": {},
          "execution_count": 71
        },
        {
          "output_type": "display_data",
          "data": {
            "text/plain": [
              "<Figure size 1440x1440 with 1 Axes>"
            ],
            "image/png": "[encoded data removed]"
          },
          "metadata": {}
        }
      ],
      "source": [
        "fig, ax = plt.subplots(figsize=(20,20))\n",
        "ax.pie(Total_ventas_familia, labels = ventas_famili)"
      ]
    },
    {
      "cell_type": "markdown",
      "metadata": {
        "id": "C2miLxdIwgVp"
      },
      "source": [
        "En un grafíco de torta se parecia mejor aún el porcentaje que representa la venta de los bidones en las ventas totales del periodo"
      ]
    },
    {
      "cell_type": "markdown",
      "metadata": {
        "id": "k_p8srDrw4ub"
      },
      "source": [
        "\n",
        "\n",
        "\n",
        "\n",
        "**2. Análisis comparativo mismo peridodo de meses del 2019 a 2022**"
      ]
    },
    {
      "cell_type": "markdown",
      "metadata": {
        "id": "zNkv_e48zNyr"
      },
      "source": [
        " \n",
        "\n",
        "*   Ahora analizaremos incluyendo los movimientos del periodo actual, y para que el dato sea mas representativo, se utlizaran los mismos meses de cada periodo, esto quiere decir, de enero a septiembre de cada año\n"
      ]
    },
    {
      "cell_type": "code",
      "execution_count": 72,
      "metadata": {
        "colab": {
          "base_uri": "https://localhost:8080/",
          "height": 312
        },
        "id": "dEnqfds1wraX",
        "outputId": "c85206d9-1da9-431d-838a-5696857efba1"
      },
      "outputs": [
        {
          "output_type": "execute_result",
          "data": {
            "text/plain": [
              "Text(0.5, 0, 'Año')"
            ]
          },
          "metadata": {},
          "execution_count": 72
        },
        {
          "output_type": "display_data",
          "data": {
            "text/plain": [
              "<Figure size 576x288 with 1 Axes>"
            ],
            "image/png": "[encoded data removed]"
          },
          "metadata": {
            "needs_background": "light"
          }
        }
      ],
      "source": [
        "fig, ax = plt.subplots(figsize=(8,4))\n",
        "ax.bar(ventas_meses,Total_ventas_meses)\n",
        "ax.set_title('TOTAL VENTAS MISMO PERIODO 2019 A 2022')\n",
        "ax.set_ylabel('Monto facturado')\n",
        "ax.set_xlabel('Año')"
      ]
    },
    {
      "cell_type": "markdown",
      "metadata": {
        "id": "6qwTmeHH1rpH"
      },
      "source": [
        "En este gráfico de barras, podemos apreciar que efectivamente las ventas totales han bajado en el mismo periodo de meses, aun así se mantiene sobre las ventas del año 2020 que fue el inicio de la pandiemia"
      ]
    },
    {
      "cell_type": "markdown",
      "metadata": {
        "id": "aBLqEGQo746P"
      },
      "source": [
        "**3. Análisis movimiento bidon \"cloro\" vs bidon \"con venta constante\"**"
      ]
    },
    {
      "cell_type": "markdown",
      "metadata": {
        "id": "rHZnKEVn8JI-"
      },
      "source": [
        "Vamos a ver los movimientos entre los años y mes a mes, del producto usado para el cloro que vi su aumento en pandiemia, y otro producto que se ha mantenido constante y que en el escenario actual es interesante ver si existe variacion ya que es el utilizado para la venta de aceite al mayor, insumo que se ha visto afectado por la actual guerra en ukrania"
      ]
    },
    {
      "cell_type": "markdown",
      "metadata": {
        "id": "lDmjKx3g_56C"
      },
      "source": [
        "*Primero veamos el bidon de cloro*"
      ]
    },
    {
      "cell_type": "code",
      "execution_count": 73,
      "metadata": {
        "colab": {
          "base_uri": "https://localhost:8080/",
          "height": 353
        },
        "id": "EsDbwhGM7z-L",
        "outputId": "44207b5d-d85f-46e7-f454-d119eec2bb2a"
      },
      "outputs": [
        {
          "output_type": "execute_result",
          "data": {
            "text/plain": [
              "<matplotlib.legend.Legend at 0x7ff73b365b10>"
            ]
          },
          "metadata": {},
          "execution_count": 73
        },
        {
          "output_type": "display_data",
          "data": {
            "text/plain": [
              "<Figure size 1008x360 with 4 Axes>"
            ],
            "image/png": "[encoded data removed]"
          },
          "metadata": {
            "needs_background": "light"
          }
        }
      ],
      "source": [
        "fig, ax = plt.subplots(nrows=4, ncols=1, figsize=(14, 5), sharex=True, sharey=True)  \n",
        "ax[0].plot(df_VtaTotal2019.index, df_VtaTotal2019['VALOR_NETO_'], label='Ventas bidon cloro 2019')\n",
        "ax[1].plot(df_VtaTotal2020.index, df_VtaTotal2020['VALOR_NETO_'], label='Ventas bidon cloro 2020', color='C1')\n",
        "ax[2].plot(df_VtaTotal2021.index, df_VtaTotal2021['VALOR_NETO_'], label='Ventas bidon cloro 2021', color='C2')\n",
        "ax[3].plot(df_VtaTotal2022.index, df_VtaTotal2022['VALOR_NETO_'], label='Ventas bidon cloro 2022', color='C3')\n",
        "ax[0].set_title('Ventas bidon de cloro mismos meses Periodo 2019 - 2022') \n",
        "ax[2].set_xlabel('MES')\n",
        "ax[1].set_ylabel('CANTIDAD')\n",
        "\n",
        "ax[0].legend()  \n",
        "ax[1].legend()\n",
        "ax[2].legend()   \n",
        "ax[3].legend()"
      ]
    },
    {
      "cell_type": "markdown",
      "metadata": {
        "id": "4ZuLx4V_-tGh"
      },
      "source": [
        "Aquí podemos ver, primero claramente antes del 2020 no hay ventas de este producto, lo que es raro ya que si bien existe un boom para la pandemia, es un producto que se ha comercializado siempre. En cuanto los peridos 2020 a 2022, en los dos primeros se aprecia un peak en el mes de marzo y una caida al mes de Junio. Pero para el caso del año 2022 la linea es mas recta, esto seria algo a analizar"
      ]
    },
    {
      "cell_type": "markdown",
      "metadata": {
        "id": "P1qX4ZjNADCX"
      },
      "source": [
        "*Y el mismo ejerecicio para el bidon de Aceite*"
      ]
    },
    {
      "cell_type": "code",
      "execution_count": 74,
      "metadata": {
        "colab": {
          "base_uri": "https://localhost:8080/",
          "height": 353
        },
        "id": "N86SJT3A_3mx",
        "outputId": "5399a166-04d8-487b-8f63-4b6a85ad27ce"
      },
      "outputs": [
        {
          "output_type": "execute_result",
          "data": {
            "text/plain": [
              "<matplotlib.legend.Legend at 0x7ff73add2890>"
            ]
          },
          "metadata": {},
          "execution_count": 74
        },
        {
          "output_type": "display_data",
          "data": {
            "text/plain": [
              "<Figure size 1008x360 with 4 Axes>"
            ],
            "image/png": "[encoded data removed]"
          },
          "metadata": {
            "needs_background": "light"
          }
        }
      ],
      "source": [
        "fig, ax = plt.subplots(nrows=4, ncols=1, figsize=(14, 5), sharex=True, sharey=True)  \n",
        "ax[0].plot(df_totalaceite2019.index, df_totalaceite2019['VALOR_NETO_'], label='Ventas bidon aceite 2019')\n",
        "ax[1].plot(df_totalaceite2020.index, df_totalaceite2020['VALOR_NETO_'], label='Ventas bidon aceite 2020', color='C1')\n",
        "ax[2].plot(df_totalaceite2021.index, df_totalaceite2021['VALOR_NETO_'], label='Ventas bidon aceite 2021', color='C2')\n",
        "ax[3].plot(df_totalaceite2022.index, df_totalaceite2022['VALOR_NETO_'], label='Ventas bidon aceite 2022', color='C3')\n",
        "ax[0].set_title('Ventas bidon aceite mismos meses en Periodo 2019 - 2022') \n",
        "ax[2].set_xlabel('MES')\n",
        "ax[1].set_ylabel('CANTIDAD')\n",
        "\n",
        "ax[0].legend()  \n",
        "ax[1].legend()\n",
        "ax[2].legend()   \n",
        "ax[3].legend()"
      ]
    },
    {
      "cell_type": "markdown",
      "metadata": {
        "id": "cGP7ach0CjaW"
      },
      "source": [
        "Aquí podemos apreciar que existe un aumento y una venta constante de este bidón en el año actual, un dato a considerar ante el estancamiento de la venta del bidon de cloro"
      ]
    },
    {
      "cell_type": "markdown",
      "metadata": {
        "id": "24TXxvVnD2ZP"
      },
      "source": [
        "**4. Relaciones de los datos**\n",
        "\n",
        "Revisemos graficos que pueden generar datos relevante para el analisis y la toma de decisiones"
      ]
    },
    {
      "cell_type": "markdown",
      "metadata": {
        "id": "Z5tfhA6JErj1"
      },
      "source": [
        "Veamos si existen relaciones claras entre los datos de las columnas, en general con los datos que tenemos no es posible establecer una relacion constante entre los datos"
      ]
    },
    {
      "cell_type": "code",
      "execution_count": 75,
      "metadata": {
        "colab": {
          "base_uri": "https://localhost:8080/",
          "height": 386
        },
        "id": "Y8USdf7fDbbk",
        "outputId": "9406cec1-5b3b-4e72-bf6e-ce679d8d886d"
      },
      "outputs": [
        {
          "output_type": "execute_result",
          "data": {
            "text/plain": [
              "<seaborn.axisgrid.FacetGrid at 0x7ff73addf590>"
            ]
          },
          "metadata": {},
          "execution_count": 75
        },
        {
          "output_type": "display_data",
          "data": {
            "text/plain": [
              "<Figure size 440.875x360 with 1 Axes>"
            ],
            "image/png": "[encoded data removed]"
          },
          "metadata": {
            "needs_background": "light"
          }
        }
      ],
      "source": [
        "sns.lmplot(x ='CANTIDAD', y = 'PRECIO_UNITARIO', data = relaciones, fit_reg = False, hue = 'FAMILIA_2')"
      ]
    },
    {
      "cell_type": "code",
      "execution_count": 76,
      "metadata": {
        "colab": {
          "base_uri": "https://localhost:8080/"
        },
        "id": "MqSI-6GKpIsF",
        "outputId": "702d4108-58a0-46c6-8495-10358181488a"
      },
      "outputs": [
        {
          "output_type": "stream",
          "name": "stdout",
          "text": [
            "Looking in indexes: https://pypi.org/simple, https://us-python.pkg.dev/colab-wheels/public/simple/\n",
            "Collecting https://github.com/pandas-profiling/pandas-profiling/archive/master.zip\n",
            "  Using cached https://github.com/pandas-profiling/pandas-profiling/archive/master.zip\n",
            "Requirement already satisfied: scipy<1.10,>=1.4.1 in /usr/local/lib/python3.7/dist-packages (from pandas-profiling===dev) (1.7.3)\n",
            "Requirement already satisfied: pandas!=1.4.0,<1.6,>1.1 in /usr/local/lib/python3.7/dist-packages (from pandas-profiling===dev) (1.3.5)\n",
            "Requirement already satisfied: matplotlib<3.7,>=3.2 in /usr/local/lib/python3.7/dist-packages (from pandas-profiling===dev) (3.2.2)\n",
            "Requirement already satisfied: pydantic<1.11,>=1.8.1 in /usr/local/lib/python3.7/dist-packages (from pandas-profiling===dev) (1.10.2)\n",
            "Requirement already satisfied: PyYAML<6.1,>=5.0.0 in /usr/local/lib/python3.7/dist-packages (from pandas-profiling===dev) (6.0)\n",
            "Requirement already satisfied: jinja2<3.2,>=2.11.1 in /usr/local/lib/python3.7/dist-packages (from pandas-profiling===dev) (2.11.3)\n",
            "Requirement already satisfied: visions[type_image_path]==0.7.5 in /usr/local/lib/python3.7/dist-packages (from pandas-profiling===dev) (0.7.5)\n",
            "Requirement already satisfied: numpy<1.24,>=1.16.0 in /usr/local/lib/python3.7/dist-packages (from pandas-profiling===dev) (1.21.6)\n",
            "Requirement already satisfied: htmlmin==0.1.12 in /usr/local/lib/python3.7/dist-packages (from pandas-profiling===dev) (0.1.12)\n",
            "Requirement already satisfied: phik<0.13,>=0.11.1 in /usr/local/lib/python3.7/dist-packages (from pandas-profiling===dev) (0.12.2)\n",
            "Requirement already satisfied: requests<2.29,>=2.24.0 in /usr/local/lib/python3.7/dist-packages (from pandas-profiling===dev) (2.28.1)\n",
            "Requirement already satisfied: tqdm<4.65,>=4.48.2 in /usr/local/lib/python3.7/dist-packages (from pandas-profiling===dev) (4.64.1)\n",
            "Requirement already satisfied: seaborn<0.13,>=0.10.1 in /usr/local/lib/python3.7/dist-packages (from pandas-profiling===dev) (0.11.2)\n",
            "Requirement already satisfied: multimethod<1.10,>=1.4 in /usr/local/lib/python3.7/dist-packages (from pandas-profiling===dev) (1.9)\n",
            "Requirement already satisfied: statsmodels<0.14,>=0.13.2 in /usr/local/lib/python3.7/dist-packages (from pandas-profiling===dev) (0.13.5)\n",
            "Requirement already satisfied: typeguard<2.14,>=2.13.2 in /usr/local/lib/python3.7/dist-packages (from pandas-profiling===dev) (2.13.3)\n",
            "Requirement already satisfied: tangled-up-in-unicode>=0.0.4 in /usr/local/lib/python3.7/dist-packages (from visions[type_image_path]==0.7.5->pandas-profiling===dev) (0.2.0)\n",
            "Requirement already satisfied: attrs>=19.3.0 in /usr/local/lib/python3.7/dist-packages (from visions[type_image_path]==0.7.5->pandas-profiling===dev) (22.1.0)\n",
            "Requirement already satisfied: networkx>=2.4 in /usr/local/lib/python3.7/dist-packages (from visions[type_image_path]==0.7.5->pandas-profiling===dev) (2.6.3)\n",
            "Requirement already satisfied: imagehash in /usr/local/lib/python3.7/dist-packages (from visions[type_image_path]==0.7.5->pandas-profiling===dev) (4.3.1)\n",
            "Requirement already satisfied: Pillow in /usr/local/lib/python3.7/dist-packages (from visions[type_image_path]==0.7.5->pandas-profiling===dev) (7.1.2)\n",
            "Requirement already satisfied: MarkupSafe>=0.23 in /usr/local/lib/python3.7/dist-packages (from jinja2<3.2,>=2.11.1->pandas-profiling===dev) (2.0.1)\n",
            "Requirement already satisfied: python-dateutil>=2.1 in /usr/local/lib/python3.7/dist-packages (from matplotlib<3.7,>=3.2->pandas-profiling===dev) (2.8.2)\n",
            "Requirement already satisfied: pyparsing!=2.0.4,!=2.1.2,!=2.1.6,>=2.0.1 in /usr/local/lib/python3.7/dist-packages (from matplotlib<3.7,>=3.2->pandas-profiling===dev) (3.0.9)\n",
            "Requirement already satisfied: kiwisolver>=1.0.1 in /usr/local/lib/python3.7/dist-packages (from matplotlib<3.7,>=3.2->pandas-profiling===dev) (1.4.4)\n",
            "Requirement already satisfied: cycler>=0.10 in /usr/local/lib/python3.7/dist-packages (from matplotlib<3.7,>=3.2->pandas-profiling===dev) (0.11.0)\n",
            "Requirement already satisfied: typing-extensions in /usr/local/lib/python3.7/dist-packages (from kiwisolver>=1.0.1->matplotlib<3.7,>=3.2->pandas-profiling===dev) (4.1.1)\n",
            "Requirement already satisfied: pytz>=2017.3 in /usr/local/lib/python3.7/dist-packages (from pandas!=1.4.0,<1.6,>1.1->pandas-profiling===dev) (2022.6)\n",
            "Requirement already satisfied: joblib>=0.14.1 in /usr/local/lib/python3.7/dist-packages (from phik<0.13,>=0.11.1->pandas-profiling===dev) (1.2.0)\n",
            "Requirement already satisfied: six>=1.5 in /usr/local/lib/python3.7/dist-packages (from python-dateutil>=2.1->matplotlib<3.7,>=3.2->pandas-profiling===dev) (1.15.0)\n",
            "Requirement already satisfied: charset-normalizer<3,>=2 in /usr/local/lib/python3.7/dist-packages (from requests<2.29,>=2.24.0->pandas-profiling===dev) (2.1.1)\n",
            "Requirement already satisfied: idna<4,>=2.5 in /usr/local/lib/python3.7/dist-packages (from requests<2.29,>=2.24.0->pandas-profiling===dev) (2.10)\n",
            "Requirement already satisfied: certifi>=2017.4.17 in /usr/local/lib/python3.7/dist-packages (from requests<2.29,>=2.24.0->pandas-profiling===dev) (2022.9.24)\n",
            "Requirement already satisfied: urllib3<1.27,>=1.21.1 in /usr/local/lib/python3.7/dist-packages (from requests<2.29,>=2.24.0->pandas-profiling===dev) (1.24.3)\n",
            "Requirement already satisfied: patsy>=0.5.2 in /usr/local/lib/python3.7/dist-packages (from statsmodels<0.14,>=0.13.2->pandas-profiling===dev) (0.5.3)\n",
            "Requirement already satisfied: packaging>=21.3 in /usr/local/lib/python3.7/dist-packages (from statsmodels<0.14,>=0.13.2->pandas-profiling===dev) (21.3)\n",
            "Requirement already satisfied: PyWavelets in /usr/local/lib/python3.7/dist-packages (from imagehash->visions[type_image_path]==0.7.5->pandas-profiling===dev) (1.3.0)\n"
          ]
        }
      ],
      "source": [
        "! pip install https://github.com/pandas-profiling/pandas-profiling/archive/master.zip "
      ]
    },
    {
      "cell_type": "code",
      "execution_count": 77,
      "metadata": {
        "id": "bb95Fzo5DOYG"
      },
      "outputs": [],
      "source": [
        "import pandas_profiling"
      ]
    },
    {
      "cell_type": "code",
      "execution_count": 78,
      "metadata": {
        "colab": {
          "base_uri": "https://localhost:8080/",
          "height": 113,
          "referenced_widgets": [
            "1679c7f067c840c8b98e4c66b70e3cb9",
            "0c08668b007145bfa3d8a271f03414c8",
            "d985af85c06c4a9f96ea6a575d6a91ab",
            "b42e255940964f82864b00a725681a3d",
            "deef1c76e8ad4aedbed2613ee881ed74",
            "07c8594a6c0b4b12a22069007be63901",
            "8a95f3fb440c43539e4a3e44a3b92926",
            "062d5832de5c4d6e95d6fe87ad7cbf21",
            "901d3f7e2c174a7688747efadfbd782f",
            "c2e73e3969264b5783feb67359411121",
            "40622b4c78ed4035bce30fd145a182b5",
            "1fa2fcae04f2470ab228242eba1a51fb",
            "2a4509cda804478898904b0af0f4db8d",
            "cf2f9d21990c450288c8be87b9d07fbb",
            "2f88555e07904e87be9f0c9e0a9310da",
            "418e5eab04984e4ba30c9cc89bc69c09",
            "ff6408d4eb604affa785673d26d1fa62",
            "d09c2e9153704fbd9c4c94a8dc6ce103",
            "cc576d01eefe4348bf1b5d2de717c1ea",
            "51878e25ef00449e8a1ef935128c905d",
            "e0ff8e1ffc4b450981f4466a89d089ed",
            "a9f441c85cdf46ee94ac7a0dc85ccfa8",
            "face7c489d5c4678b3ff4723c4d3b704",
            "ce3f9dab64824ed59de718d7a56742fd",
            "20343ee66d3949e28b528b85d2aad6be",
            "db055902558a44e7be273f869f91b42d",
            "25795b3787d6422fb2d6dd15dc7c9ba6",
            "e800d705ef3c4bc29b579ecb3df603ce",
            "7d33c98b6f3d45b8bab09acebbcc0a2a",
            "25cbbfe42ef24fc6a5d8325431f4d840",
            "ab3f3412e0674426af528120ef366fdf",
            "3a37e5de0451402bb917280327c0cdb5",
            "c760bd10af9542cbaba7afb24e8a88c5"
          ]
        },
        "id": "eps2lnu_B4kv",
        "outputId": "9c6ba73e-8867-45ac-a0b2-12b43efc960a"
      },
      "outputs": [
        {
          "output_type": "display_data",
          "data": {
            "text/plain": [
              "Summarize dataset:   0%|          | 0/5 [00:00<?, ?it/s]"
            ],
            "application/vnd.jupyter.widget-view+json": {
              "version_major": 2,
              "version_minor": 0,
              "model_id": "1679c7f067c840c8b98e4c66b70e3cb9"
            }
          },
          "metadata": {}
        },
        {
          "output_type": "display_data",
          "data": {
            "text/plain": [
              "Generate report structure:   0%|          | 0/1 [00:00<?, ?it/s]"
            ],
            "application/vnd.jupyter.widget-view+json": {
              "version_major": 2,
              "version_minor": 0,
              "model_id": "1fa2fcae04f2470ab228242eba1a51fb"
            }
          },
          "metadata": {}
        },
        {
          "output_type": "display_data",
          "data": {
            "text/plain": [
              "Render HTML:   0%|          | 0/1 [00:00<?, ?it/s]"
            ],
            "application/vnd.jupyter.widget-view+json": {
              "version_major": 2,
              "version_minor": 0,
              "model_id": "face7c489d5c4678b3ff4723c4d3b704"
            }
          },
          "metadata": {}
        }
      ],
      "source": [
        "profile = pandas_profiling.ProfileReport(df_1)\n",
        "profile"
      ]
    },
    {
      "cell_type": "code",
      "execution_count": 79,
      "metadata": {
        "id": "RqOr3tlTF6pP"
      },
      "outputs": [],
      "source": [
        "col_drop = ['ESTADO', 'TELEFONO', 'CELULAR', 'Nº_OC', 'Nº_GD', 'CANT.UMA', 'TALLA', 'REGISTRO_FISCAL5', 'PROCEDENCIA','TALLA/PAIS', 'TIPO_REF_1', 'NUM_REF_1', 'FECHA_REF_1']"
      ]
    },
    {
      "cell_type": "code",
      "execution_count": 80,
      "metadata": {
        "id": "SdLXFKDUHv2J"
      },
      "outputs": [],
      "source": [
        "df_2 = df_1.drop(labels = col_drop, axis=1)\n",
        "df_2.columns"
      ]
    },
    {
      "cell_type": "code",
      "execution_count": null,
      "metadata": {
        "id": "d1tpnHgIIfNs"
      },
      "outputs": [],
      "source": [
        "\n",
        "plt.rcParams['figure.figsize'] = (12, 9)\n",
        "sns.boxplot(df_2['CANTIDAD'], df_2['PRECIO_UNITARIO'], palette = 'viridis')\n",
        "plt.title('Relación entre cantidad y precio unitario', fontsize = 20)\n",
        "plt.show()"
      ]
    }
  ],
  "metadata": {
    "colab": {
      "provenance": []
    },
    "kernelspec": {
      "display_name": "Python 3",
      "name": "python3"
    },
    "language_info": {
      "name": "python"
    },
    "widgets": {
      "application/vnd.jupyter.widget-state+json": {
        "1679c7f067c840c8b98e4c66b70e3cb9": {
          "model_module": "@jupyter-widgets/controls",
          "model_name": "HBoxModel",
          "model_module_version": "1.5.0",
          "state": {
            "_dom_classes": [],
            "_model_module": "@jupyter-widgets/controls",
            "_model_module_version": "1.5.0",
            "_model_name": "HBoxModel",
            "_view_count": null,
            "_view_module": "@jupyter-widgets/controls",
            "_view_module_version": "1.5.0",
            "_view_name": "HBoxView",
            "box_style": "",
            "children": [
              "IPY_MODEL_0c08668b007145bfa3d8a271f03414c8",
              "IPY_MODEL_d985af85c06c4a9f96ea6a575d6a91ab",
              "IPY_MODEL_b42e255940964f82864b00a725681a3d"
            ],
            "layout": "IPY_MODEL_deef1c76e8ad4aedbed2613ee881ed74"
          }
        },
        "0c08668b007145bfa3d8a271f03414c8": {
          "model_module": "@jupyter-widgets/controls",
          "model_name": "HTMLModel",
          "model_module_version": "1.5.0",
          "state": {
            "_dom_classes": [],
            "_model_module": "@jupyter-widgets/controls",
            "_model_module_version": "1.5.0",
            "_model_name": "HTMLModel",
            "_view_count": null,
            "_view_module": "@jupyter-widgets/controls",
            "_view_module_version": "1.5.0",
            "_view_name": "HTMLView",
            "description": "",
            "description_tooltip": null,
            "layout": "IPY_MODEL_07c8594a6c0b4b12a22069007be63901",
            "placeholder": "​",
            "style": "IPY_MODEL_8a95f3fb440c43539e4a3e44a3b92926",
            "value": "Summarize dataset: 100%"
          }
        },
        "d985af85c06c4a9f96ea6a575d6a91ab": {
          "model_module": "@jupyter-widgets/controls",
          "model_name": "FloatProgressModel",
          "model_module_version": "1.5.0",
          "state": {
            "_dom_classes": [],
            "_model_module": "@jupyter-widgets/controls",
            "_model_module_version": "1.5.0",
            "_model_name": "FloatProgressModel",
            "_view_count": null,
            "_view_module": "@jupyter-widgets/controls",
            "_view_module_version": "1.5.0",
            "_view_name": "ProgressView",
            "bar_style": "success",
            "description": "",
            "description_tooltip": null,
            "layout": "IPY_MODEL_062d5832de5c4d6e95d6fe87ad7cbf21",
            "max": 5,
            "min": 0,
            "orientation": "horizontal",
            "style": "IPY_MODEL_901d3f7e2c174a7688747efadfbd782f",
            "value": 5
          }
        },
        "b42e255940964f82864b00a725681a3d": {
          "model_module": "@jupyter-widgets/controls",
          "model_name": "HTMLModel",
          "model_module_version": "1.5.0",
          "state": {
            "_dom_classes": [],
            "_model_module": "@jupyter-widgets/controls",
            "_model_module_version": "1.5.0",
            "_model_name": "HTMLModel",
            "_view_count": null,
            "_view_module": "@jupyter-widgets/controls",
            "_view_module_version": "1.5.0",
            "_view_name": "HTMLView",
            "description": "",
            "description_tooltip": null,
            "layout": "IPY_MODEL_c2e73e3969264b5783feb67359411121",
            "placeholder": "​",
            "style": "IPY_MODEL_40622b4c78ed4035bce30fd145a182b5",
            "value": " 253/253 [02:15&lt;00:00,  1.15s/it, Completed]"
          }
        },
        "deef1c76e8ad4aedbed2613ee881ed74": {
          "model_module": "@jupyter-widgets/base",
          "model_name": "LayoutModel",
          "model_module_version": "1.2.0",
          "state": {
            "_model_module": "@jupyter-widgets/base",
            "_model_module_version": "1.2.0",
            "_model_name": "LayoutModel",
            "_view_count": null,
            "_view_module": "@jupyter-widgets/base",
            "_view_module_version": "1.2.0",
            "_view_name": "LayoutView",
            "align_content": null,
            "align_items": null,
            "align_self": null,
            "border": null,
            "bottom": null,
            "display": null,
            "flex": null,
            "flex_flow": null,
            "grid_area": null,
            "grid_auto_columns": null,
            "grid_auto_flow": null,
            "grid_auto_rows": null,
            "grid_column": null,
            "grid_gap": null,
            "grid_row": null,
            "grid_template_areas": null,
            "grid_template_columns": null,
            "grid_template_rows": null,
            "height": null,
            "justify_content": null,
            "justify_items": null,
            "left": null,
            "margin": null,
            "max_height": null,
            "max_width": null,
            "min_height": null,
            "min_width": null,
            "object_fit": null,
            "object_position": null,
            "order": null,
            "overflow": null,
            "overflow_x": null,
            "overflow_y": null,
            "padding": null,
            "right": null,
            "top": null,
            "visibility": null,
            "width": null
          }
        },
        "07c8594a6c0b4b12a22069007be63901": {
          "model_module": "@jupyter-widgets/base",
          "model_name": "LayoutModel",
          "model_module_version": "1.2.0",
          "state": {
            "_model_module": "@jupyter-widgets/base",
            "_model_module_version": "1.2.0",
            "_model_name": "LayoutModel",
            "_view_count": null,
            "_view_module": "@jupyter-widgets/base",
            "_view_module_version": "1.2.0",
            "_view_name": "LayoutView",
            "align_content": null,
            "align_items": null,
            "align_self": null,
            "border": null,
            "bottom": null,
            "display": null,
            "flex": null,
            "flex_flow": null,
            "grid_area": null,
            "grid_auto_columns": null,
            "grid_auto_flow": null,
            "grid_auto_rows": null,
            "grid_column": null,
            "grid_gap": null,
            "grid_row": null,
            "grid_template_areas": null,
            "grid_template_columns": null,
            "grid_template_rows": null,
            "height": null,
            "justify_content": null,
            "justify_items": null,
            "left": null,
            "margin": null,
            "max_height": null,
            "max_width": null,
            "min_height": null,
            "min_width": null,
            "object_fit": null,
            "object_position": null,
            "order": null,
            "overflow": null,
            "overflow_x": null,
            "overflow_y": null,
            "padding": null,
            "right": null,
            "top": null,
            "visibility": null,
            "width": null
          }
        },
        "8a95f3fb440c43539e4a3e44a3b92926": {
          "model_module": "@jupyter-widgets/controls",
          "model_name": "DescriptionStyleModel",
          "model_module_version": "1.5.0",
          "state": {
            "_model_module": "@jupyter-widgets/controls",
            "_model_module_version": "1.5.0",
            "_model_name": "DescriptionStyleModel",
            "_view_count": null,
            "_view_module": "@jupyter-widgets/base",
            "_view_module_version": "1.2.0",
            "_view_name": "StyleView",
            "description_width": ""
          }
        },
        "062d5832de5c4d6e95d6fe87ad7cbf21": {
          "model_module": "@jupyter-widgets/base",
          "model_name": "LayoutModel",
          "model_module_version": "1.2.0",
          "state": {
            "_model_module": "@jupyter-widgets/base",
            "_model_module_version": "1.2.0",
            "_model_name": "LayoutModel",
            "_view_count": null,
            "_view_module": "@jupyter-widgets/base",
            "_view_module_version": "1.2.0",
            "_view_name": "LayoutView",
            "align_content": null,
            "align_items": null,
            "align_self": null,
            "border": null,
            "bottom": null,
            "display": null,
            "flex": null,
            "flex_flow": null,
            "grid_area": null,
            "grid_auto_columns": null,
            "grid_auto_flow": null,
            "grid_auto_rows": null,
            "grid_column": null,
            "grid_gap": null,
            "grid_row": null,
            "grid_template_areas": null,
            "grid_template_columns": null,
            "grid_template_rows": null,
            "height": null,
            "justify_content": null,
            "justify_items": null,
            "left": null,
            "margin": null,
            "max_height": null,
            "max_width": null,
            "min_height": null,
            "min_width": null,
            "object_fit": null,
            "object_position": null,
            "order": null,
            "overflow": null,
            "overflow_x": null,
            "overflow_y": null,
            "padding": null,
            "right": null,
            "top": null,
            "visibility": null,
            "width": null
          }
        },
        "901d3f7e2c174a7688747efadfbd782f": {
          "model_module": "@jupyter-widgets/controls",
          "model_name": "ProgressStyleModel",
          "model_module_version": "1.5.0",
          "state": {
            "_model_module": "@jupyter-widgets/controls",
            "_model_module_version": "1.5.0",
            "_model_name": "ProgressStyleModel",
            "_view_count": null,
            "_view_module": "@jupyter-widgets/base",
            "_view_module_version": "1.2.0",
            "_view_name": "StyleView",
            "bar_color": null,
            "description_width": ""
          }
        },
        "c2e73e3969264b5783feb67359411121": {
          "model_module": "@jupyter-widgets/base",
          "model_name": "LayoutModel",
          "model_module_version": "1.2.0",
          "state": {
            "_model_module": "@jupyter-widgets/base",
            "_model_module_version": "1.2.0",
            "_model_name": "LayoutModel",
            "_view_count": null,
            "_view_module": "@jupyter-widgets/base",
            "_view_module_version": "1.2.0",
            "_view_name": "LayoutView",
            "align_content": null,
            "align_items": null,
            "align_self": null,
            "border": null,
            "bottom": null,
            "display": null,
            "flex": null,
            "flex_flow": null,
            "grid_area": null,
            "grid_auto_columns": null,
            "grid_auto_flow": null,
            "grid_auto_rows": null,
            "grid_column": null,
            "grid_gap": null,
            "grid_row": null,
            "grid_template_areas": null,
            "grid_template_columns": null,
            "grid_template_rows": null,
            "height": null,
            "justify_content": null,
            "justify_items": null,
            "left": null,
            "margin": null,
            "max_height": null,
            "max_width": null,
            "min_height": null,
            "min_width": null,
            "object_fit": null,
            "object_position": null,
            "order": null,
            "overflow": null,
            "overflow_x": null,
            "overflow_y": null,
            "padding": null,
            "right": null,
            "top": null,
            "visibility": null,
            "width": null
          }
        },
        "40622b4c78ed4035bce30fd145a182b5": {
          "model_module": "@jupyter-widgets/controls",
          "model_name": "DescriptionStyleModel",
          "model_module_version": "1.5.0",
          "state": {
            "_model_module": "@jupyter-widgets/controls",
            "_model_module_version": "1.5.0",
            "_model_name": "DescriptionStyleModel",
            "_view_count": null,
            "_view_module": "@jupyter-widgets/base",
            "_view_module_version": "1.2.0",
            "_view_name": "StyleView",
            "description_width": ""
          }
        },
        "1fa2fcae04f2470ab228242eba1a51fb": {
          "model_module": "@jupyter-widgets/controls",
          "model_name": "HBoxModel",
          "model_module_version": "1.5.0",
          "state": {
            "_dom_classes": [],
            "_model_module": "@jupyter-widgets/controls",
            "_model_module_version": "1.5.0",
            "_model_name": "HBoxModel",
            "_view_count": null,
            "_view_module": "@jupyter-widgets/controls",
            "_view_module_version": "1.5.0",
            "_view_name": "HBoxView",
            "box_style": "",
            "children": [
              "IPY_MODEL_2a4509cda804478898904b0af0f4db8d",
              "IPY_MODEL_cf2f9d21990c450288c8be87b9d07fbb",
              "IPY_MODEL_2f88555e07904e87be9f0c9e0a9310da"
            ],
            "layout": "IPY_MODEL_418e5eab04984e4ba30c9cc89bc69c09"
          }
        },
        "2a4509cda804478898904b0af0f4db8d": {
          "model_module": "@jupyter-widgets/controls",
          "model_name": "HTMLModel",
          "model_module_version": "1.5.0",
          "state": {
            "_dom_classes": [],
            "_model_module": "@jupyter-widgets/controls",
            "_model_module_version": "1.5.0",
            "_model_name": "HTMLModel",
            "_view_count": null,
            "_view_module": "@jupyter-widgets/controls",
            "_view_module_version": "1.5.0",
            "_view_name": "HTMLView",
            "description": "",
            "description_tooltip": null,
            "layout": "IPY_MODEL_ff6408d4eb604affa785673d26d1fa62",
            "placeholder": "​",
            "style": "IPY_MODEL_d09c2e9153704fbd9c4c94a8dc6ce103",
            "value": "Generate report structure: 100%"
          }
        },
        "cf2f9d21990c450288c8be87b9d07fbb": {
          "model_module": "@jupyter-widgets/controls",
          "model_name": "FloatProgressModel",
          "model_module_version": "1.5.0",
          "state": {
            "_dom_classes": [],
            "_model_module": "@jupyter-widgets/controls",
            "_model_module_version": "1.5.0",
            "_model_name": "FloatProgressModel",
            "_view_count": null,
            "_view_module": "@jupyter-widgets/controls",
            "_view_module_version": "1.5.0",
            "_view_name": "ProgressView",
            "bar_style": "success",
            "description": "",
            "description_tooltip": null,
            "layout": "IPY_MODEL_cc576d01eefe4348bf1b5d2de717c1ea",
            "max": 1,
            "min": 0,
            "orientation": "horizontal",
            "style": "IPY_MODEL_51878e25ef00449e8a1ef935128c905d",
            "value": 1
          }
        },
        "2f88555e07904e87be9f0c9e0a9310da": {
          "model_module": "@jupyter-widgets/controls",
          "model_name": "HTMLModel",
          "model_module_version": "1.5.0",
          "state": {
            "_dom_classes": [],
            "_model_module": "@jupyter-widgets/controls",
            "_model_module_version": "1.5.0",
            "_model_name": "HTMLModel",
            "_view_count": null,
            "_view_module": "@jupyter-widgets/controls",
            "_view_module_version": "1.5.0",
            "_view_name": "HTMLView",
            "description": "",
            "description_tooltip": null,
            "layout": "IPY_MODEL_e0ff8e1ffc4b450981f4466a89d089ed",
            "placeholder": "​",
            "style": "IPY_MODEL_a9f441c85cdf46ee94ac7a0dc85ccfa8",
            "value": " 1/1 [00:23&lt;00:00, 23.21s/it]"
          }
        },
        "418e5eab04984e4ba30c9cc89bc69c09": {
          "model_module": "@jupyter-widgets/base",
          "model_name": "LayoutModel",
          "model_module_version": "1.2.0",
          "state": {
            "_model_module": "@jupyter-widgets/base",
            "_model_module_version": "1.2.0",
            "_model_name": "LayoutModel",
            "_view_count": null,
            "_view_module": "@jupyter-widgets/base",
            "_view_module_version": "1.2.0",
            "_view_name": "LayoutView",
            "align_content": null,
            "align_items": null,
            "align_self": null,
            "border": null,
            "bottom": null,
            "display": null,
            "flex": null,
            "flex_flow": null,
            "grid_area": null,
            "grid_auto_columns": null,
            "grid_auto_flow": null,
            "grid_auto_rows": null,
            "grid_column": null,
            "grid_gap": null,
            "grid_row": null,
            "grid_template_areas": null,
            "grid_template_columns": null,
            "grid_template_rows": null,
            "height": null,
            "justify_content": null,
            "justify_items": null,
            "left": null,
            "margin": null,
            "max_height": null,
            "max_width": null,
            "min_height": null,
            "min_width": null,
            "object_fit": null,
            "object_position": null,
            "order": null,
            "overflow": null,
            "overflow_x": null,
            "overflow_y": null,
            "padding": null,
            "right": null,
            "top": null,
            "visibility": null,
            "width": null
          }
        },
        "ff6408d4eb604affa785673d26d1fa62": {
          "model_module": "@jupyter-widgets/base",
          "model_name": "LayoutModel",
          "model_module_version": "1.2.0",
          "state": {
            "_model_module": "@jupyter-widgets/base",
            "_model_module_version": "1.2.0",
            "_model_name": "LayoutModel",
            "_view_count": null,
            "_view_module": "@jupyter-widgets/base",
            "_view_module_version": "1.2.0",
            "_view_name": "LayoutView",
            "align_content": null,
            "align_items": null,
            "align_self": null,
            "border": null,
            "bottom": null,
            "display": null,
            "flex": null,
            "flex_flow": null,
            "grid_area": null,
            "grid_auto_columns": null,
            "grid_auto_flow": null,
            "grid_auto_rows": null,
            "grid_column": null,
            "grid_gap": null,
            "grid_row": null,
            "grid_template_areas": null,
            "grid_template_columns": null,
            "grid_template_rows": null,
            "height": null,
            "justify_content": null,
            "justify_items": null,
            "left": null,
            "margin": null,
            "max_height": null,
            "max_width": null,
            "min_height": null,
            "min_width": null,
            "object_fit": null,
            "object_position": null,
            "order": null,
            "overflow": null,
            "overflow_x": null,
            "overflow_y": null,
            "padding": null,
            "right": null,
            "top": null,
            "visibility": null,
            "width": null
          }
        },
        "d09c2e9153704fbd9c4c94a8dc6ce103": {
          "model_module": "@jupyter-widgets/controls",
          "model_name": "DescriptionStyleModel",
          "model_module_version": "1.5.0",
          "state": {
            "_model_module": "@jupyter-widgets/controls",
            "_model_module_version": "1.5.0",
            "_model_name": "DescriptionStyleModel",
            "_view_count": null,
            "_view_module": "@jupyter-widgets/base",
            "_view_module_version": "1.2.0",
            "_view_name": "StyleView",
            "description_width": ""
          }
        },
        "cc576d01eefe4348bf1b5d2de717c1ea": {
          "model_module": "@jupyter-widgets/base",
          "model_name": "LayoutModel",
          "model_module_version": "1.2.0",
          "state": {
            "_model_module": "@jupyter-widgets/base",
            "_model_module_version": "1.2.0",
            "_model_name": "LayoutModel",
            "_view_count": null,
            "_view_module": "@jupyter-widgets/base",
            "_view_module_version": "1.2.0",
            "_view_name": "LayoutView",
            "align_content": null,
            "align_items": null,
            "align_self": null,
            "border": null,
            "bottom": null,
            "display": null,
            "flex": null,
            "flex_flow": null,
            "grid_area": null,
            "grid_auto_columns": null,
            "grid_auto_flow": null,
            "grid_auto_rows": null,
            "grid_column": null,
            "grid_gap": null,
            "grid_row": null,
            "grid_template_areas": null,
            "grid_template_columns": null,
            "grid_template_rows": null,
            "height": null,
            "justify_content": null,
            "justify_items": null,
            "left": null,
            "margin": null,
            "max_height": null,
            "max_width": null,
            "min_height": null,
            "min_width": null,
            "object_fit": null,
            "object_position": null,
            "order": null,
            "overflow": null,
            "overflow_x": null,
            "overflow_y": null,
            "padding": null,
            "right": null,
            "top": null,
            "visibility": null,
            "width": null
          }
        },
        "51878e25ef00449e8a1ef935128c905d": {
          "model_module": "@jupyter-widgets/controls",
          "model_name": "ProgressStyleModel",
          "model_module_version": "1.5.0",
          "state": {
            "_model_module": "@jupyter-widgets/controls",
            "_model_module_version": "1.5.0",
            "_model_name": "ProgressStyleModel",
            "_view_count": null,
            "_view_module": "@jupyter-widgets/base",
            "_view_module_version": "1.2.0",
            "_view_name": "StyleView",
            "bar_color": null,
            "description_width": ""
          }
        },
        "e0ff8e1ffc4b450981f4466a89d089ed": {
          "model_module": "@jupyter-widgets/base",
          "model_name": "LayoutModel",
          "model_module_version": "1.2.0",
          "state": {
            "_model_module": "@jupyter-widgets/base",
            "_model_module_version": "1.2.0",
            "_model_name": "LayoutModel",
            "_view_count": null,
            "_view_module": "@jupyter-widgets/base",
            "_view_module_version": "1.2.0",
            "_view_name": "LayoutView",
            "align_content": null,
            "align_items": null,
            "align_self": null,
            "border": null,
            "bottom": null,
            "display": null,
            "flex": null,
            "flex_flow": null,
            "grid_area": null,
            "grid_auto_columns": null,
            "grid_auto_flow": null,
            "grid_auto_rows": null,
            "grid_column": null,
            "grid_gap": null,
            "grid_row": null,
            "grid_template_areas": null,
            "grid_template_columns": null,
            "grid_template_rows": null,
            "height": null,
            "justify_content": null,
            "justify_items": null,
            "left": null,
            "margin": null,
            "max_height": null,
            "max_width": null,
            "min_height": null,
            "min_width": null,
            "object_fit": null,
            "object_position": null,
            "order": null,
            "overflow": null,
            "overflow_x": null,
            "overflow_y": null,
            "padding": null,
            "right": null,
            "top": null,
            "visibility": null,
            "width": null
          }
        },
        "a9f441c85cdf46ee94ac7a0dc85ccfa8": {
          "model_module": "@jupyter-widgets/controls",
          "model_name": "DescriptionStyleModel",
          "model_module_version": "1.5.0",
          "state": {
            "_model_module": "@jupyter-widgets/controls",
            "_model_module_version": "1.5.0",
            "_model_name": "DescriptionStyleModel",
            "_view_count": null,
            "_view_module": "@jupyter-widgets/base",
            "_view_module_version": "1.2.0",
            "_view_name": "StyleView",
            "description_width": ""
          }
        },
        "face7c489d5c4678b3ff4723c4d3b704": {
          "model_module": "@jupyter-widgets/controls",
          "model_name": "HBoxModel",
          "model_module_version": "1.5.0",
          "state": {
            "_dom_classes": [],
            "_model_module": "@jupyter-widgets/controls",
            "_model_module_version": "1.5.0",
            "_model_name": "HBoxModel",
            "_view_count": null,
            "_view_module": "@jupyter-widgets/controls",
            "_view_module_version": "1.5.0",
            "_view_name": "HBoxView",
            "box_style": "",
            "children": [
              "IPY_MODEL_ce3f9dab64824ed59de718d7a56742fd",
              "IPY_MODEL_20343ee66d3949e28b528b85d2aad6be",
              "IPY_MODEL_db055902558a44e7be273f869f91b42d"
            ],
            "layout": "IPY_MODEL_25795b3787d6422fb2d6dd15dc7c9ba6"
          }
        },
        "ce3f9dab64824ed59de718d7a56742fd": {
          "model_module": "@jupyter-widgets/controls",
          "model_name": "HTMLModel",
          "model_module_version": "1.5.0",
          "state": {
            "_dom_classes": [],
            "_model_module": "@jupyter-widgets/controls",
            "_model_module_version": "1.5.0",
            "_model_name": "HTMLModel",
            "_view_count": null,
            "_view_module": "@jupyter-widgets/controls",
            "_view_module_version": "1.5.0",
            "_view_name": "HTMLView",
            "description": "",
            "description_tooltip": null,
            "layout": "IPY_MODEL_e800d705ef3c4bc29b579ecb3df603ce",
            "placeholder": "​",
            "style": "IPY_MODEL_7d33c98b6f3d45b8bab09acebbcc0a2a",
            "value": "Render HTML: 100%"
          }
        },
        "20343ee66d3949e28b528b85d2aad6be": {
          "model_module": "@jupyter-widgets/controls",
          "model_name": "FloatProgressModel",
          "model_module_version": "1.5.0",
          "state": {
            "_dom_classes": [],
            "_model_module": "@jupyter-widgets/controls",
            "_model_module_version": "1.5.0",
            "_model_name": "FloatProgressModel",
            "_view_count": null,
            "_view_module": "@jupyter-widgets/controls",
            "_view_module_version": "1.5.0",
            "_view_name": "ProgressView",
            "bar_style": "success",
            "description": "",
            "description_tooltip": null,
            "layout": "IPY_MODEL_25cbbfe42ef24fc6a5d8325431f4d840",
            "max": 1,
            "min": 0,
            "orientation": "horizontal",
            "style": "IPY_MODEL_ab3f3412e0674426af528120ef366fdf",
            "value": 1
          }
        },
        "db055902558a44e7be273f869f91b42d": {
          "model_module": "@jupyter-widgets/controls",
          "model_name": "HTMLModel",
          "model_module_version": "1.5.0",
          "state": {
            "_dom_classes": [],
            "_model_module": "@jupyter-widgets/controls",
            "_model_module_version": "1.5.0",
            "_model_name": "HTMLModel",
            "_view_count": null,
            "_view_module": "@jupyter-widgets/controls",
            "_view_module_version": "1.5.0",
            "_view_name": "HTMLView",
            "description": "",
            "description_tooltip": null,
            "layout": "IPY_MODEL_3a37e5de0451402bb917280327c0cdb5",
            "placeholder": "​",
            "style": "IPY_MODEL_c760bd10af9542cbaba7afb24e8a88c5",
            "value": " 1/1 [00:08&lt;00:00,  8.23s/it]"
          }
        },
        "25795b3787d6422fb2d6dd15dc7c9ba6": {
          "model_module": "@jupyter-widgets/base",
          "model_name": "LayoutModel",
          "model_module_version": "1.2.0",
          "state": {
            "_model_module": "@jupyter-widgets/base",
            "_model_module_version": "1.2.0",
            "_model_name": "LayoutModel",
            "_view_count": null,
            "_view_module": "@jupyter-widgets/base",
            "_view_module_version": "1.2.0",
            "_view_name": "LayoutView",
            "align_content": null,
            "align_items": null,
            "align_self": null,
            "border": null,
            "bottom": null,
            "display": null,
            "flex": null,
            "flex_flow": null,
            "grid_area": null,
            "grid_auto_columns": null,
            "grid_auto_flow": null,
            "grid_auto_rows": null,
            "grid_column": null,
            "grid_gap": null,
            "grid_row": null,
            "grid_template_areas": null,
            "grid_template_columns": null,
            "grid_template_rows": null,
            "height": null,
            "justify_content": null,
            "justify_items": null,
            "left": null,
            "margin": null,
            "max_height": null,
            "max_width": null,
            "min_height": null,
            "min_width": null,
            "object_fit": null,
            "object_position": null,
            "order": null,
            "overflow": null,
            "overflow_x": null,
            "overflow_y": null,
            "padding": null,
            "right": null,
            "top": null,
            "visibility": null,
            "width": null
          }
        },
        "e800d705ef3c4bc29b579ecb3df603ce": {
          "model_module": "@jupyter-widgets/base",
          "model_name": "LayoutModel",
          "model_module_version": "1.2.0",
          "state": {
            "_model_module": "@jupyter-widgets/base",
            "_model_module_version": "1.2.0",
            "_model_name": "LayoutModel",
            "_view_count": null,
            "_view_module": "@jupyter-widgets/base",
            "_view_module_version": "1.2.0",
            "_view_name": "LayoutView",
            "align_content": null,
            "align_items": null,
            "align_self": null,
            "border": null,
            "bottom": null,
            "display": null,
            "flex": null,
            "flex_flow": null,
            "grid_area": null,
            "grid_auto_columns": null,
            "grid_auto_flow": null,
            "grid_auto_rows": null,
            "grid_column": null,
            "grid_gap": null,
            "grid_row": null,
            "grid_template_areas": null,
            "grid_template_columns": null,
            "grid_template_rows": null,
            "height": null,
            "justify_content": null,
            "justify_items": null,
            "left": null,
            "margin": null,
            "max_height": null,
            "max_width": null,
            "min_height": null,
            "min_width": null,
            "object_fit": null,
            "object_position": null,
            "order": null,
            "overflow": null,
            "overflow_x": null,
            "overflow_y": null,
            "padding": null,
            "right": null,
            "top": null,
            "visibility": null,
            "width": null
          }
        },
        "7d33c98b6f3d45b8bab09acebbcc0a2a": {
          "model_module": "@jupyter-widgets/controls",
          "model_name": "DescriptionStyleModel",
          "model_module_version": "1.5.0",
          "state": {
            "_model_module": "@jupyter-widgets/controls",
            "_model_module_version": "1.5.0",
            "_model_name": "DescriptionStyleModel",
            "_view_count": null,
            "_view_module": "@jupyter-widgets/base",
            "_view_module_version": "1.2.0",
            "_view_name": "StyleView",
            "description_width": ""
          }
        },
        "25cbbfe42ef24fc6a5d8325431f4d840": {
          "model_module": "@jupyter-widgets/base",
          "model_name": "LayoutModel",
          "model_module_version": "1.2.0",
          "state": {
            "_model_module": "@jupyter-widgets/base",
            "_model_module_version": "1.2.0",
            "_model_name": "LayoutModel",
            "_view_count": null,
            "_view_module": "@jupyter-widgets/base",
            "_view_module_version": "1.2.0",
            "_view_name": "LayoutView",
            "align_content": null,
            "align_items": null,
            "align_self": null,
            "border": null,
            "bottom": null,
            "display": null,
            "flex": null,
            "flex_flow": null,
            "grid_area": null,
            "grid_auto_columns": null,
            "grid_auto_flow": null,
            "grid_auto_rows": null,
            "grid_column": null,
            "grid_gap": null,
            "grid_row": null,
            "grid_template_areas": null,
            "grid_template_columns": null,
            "grid_template_rows": null,
            "height": null,
            "justify_content": null,
            "justify_items": null,
            "left": null,
            "margin": null,
            "max_height": null,
            "max_width": null,
            "min_height": null,
            "min_width": null,
            "object_fit": null,
            "object_position": null,
            "order": null,
            "overflow": null,
            "overflow_x": null,
            "overflow_y": null,
            "padding": null,
            "right": null,
            "top": null,
            "visibility": null,
            "width": null
          }
        },
        "ab3f3412e0674426af528120ef366fdf": {
          "model_module": "@jupyter-widgets/controls",
          "model_name": "ProgressStyleModel",
          "model_module_version": "1.5.0",
          "state": {
            "_model_module": "@jupyter-widgets/controls",
            "_model_module_version": "1.5.0",
            "_model_name": "ProgressStyleModel",
            "_view_count": null,
            "_view_module": "@jupyter-widgets/base",
            "_view_module_version": "1.2.0",
            "_view_name": "StyleView",
            "bar_color": null,
            "description_width": ""
          }
        },
        "3a37e5de0451402bb917280327c0cdb5": {
          "model_module": "@jupyter-widgets/base",
          "model_name": "LayoutModel",
          "model_module_version": "1.2.0",
          "state": {
            "_model_module": "@jupyter-widgets/base",
            "_model_module_version": "1.2.0",
            "_model_name": "LayoutModel",
            "_view_count": null,
            "_view_module": "@jupyter-widgets/base",
            "_view_module_version": "1.2.0",
            "_view_name": "LayoutView",
            "align_content": null,
            "align_items": null,
            "align_self": null,
            "border": null,
            "bottom": null,
            "display": null,
            "flex": null,
            "flex_flow": null,
            "grid_area": null,
            "grid_auto_columns": null,
            "grid_auto_flow": null,
            "grid_auto_rows": null,
            "grid_column": null,
            "grid_gap": null,
            "grid_row": null,
            "grid_template_areas": null,
            "grid_template_columns": null,
            "grid_template_rows": null,
            "height": null,
            "justify_content": null,
            "justify_items": null,
            "left": null,
            "margin": null,
            "max_height": null,
            "max_width": null,
            "min_height": null,
            "min_width": null,
            "object_fit": null,
            "object_position": null,
            "order": null,
            "overflow": null,
            "overflow_x": null,
            "overflow_y": null,
            "padding": null,
            "right": null,
            "top": null,
            "visibility": null,
            "width": null
          }
        },
        "c760bd10af9542cbaba7afb24e8a88c5": {
          "model_module": "@jupyter-widgets/controls",
          "model_name": "DescriptionStyleModel",
          "model_module_version": "1.5.0",
          "state": {
            "_model_module": "@jupyter-widgets/controls",
            "_model_module_version": "1.5.0",
            "_model_name": "DescriptionStyleModel",
            "_view_count": null,
            "_view_module": "@jupyter-widgets/base",
            "_view_module_version": "1.2.0",
            "_view_name": "StyleView",
            "description_width": ""
          }
        }
      }
    }
  },
  "nbformat": 4,
  "nbformat_minor": 0
}